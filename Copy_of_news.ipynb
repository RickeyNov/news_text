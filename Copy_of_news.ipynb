{
  "cells": [
    {
      "cell_type": "markdown",
      "id": "244ef811-387d-47be-a1ac-45e2bd9c71f2",
      "metadata": {
        "id": "244ef811-387d-47be-a1ac-45e2bd9c71f2"
      },
      "source": [
        "# **数据读取**"
      ]
    },
    {
      "cell_type": "code",
      "source": [
        "from google.colab import drive\n",
        "drive.mount('/content/drive')"
      ],
      "metadata": {
        "colab": {
          "base_uri": "https://localhost:8080/"
        },
        "id": "H2DpC8GDSStQ",
        "outputId": "65da87c6-0b4b-4caa-cfd2-ac35f9e0c04d"
      },
      "id": "H2DpC8GDSStQ",
      "execution_count": 2,
      "outputs": [
        {
          "output_type": "stream",
          "name": "stdout",
          "text": [
            "Drive already mounted at /content/drive; to attempt to forcibly remount, call drive.mount(\"/content/drive\", force_remount=True).\n"
          ]
        }
      ]
    },
    {
      "cell_type": "code",
      "execution_count": null,
      "id": "14137a20-ae22-446d-82fc-5bf2688662d4",
      "metadata": {
        "id": "14137a20-ae22-446d-82fc-5bf2688662d4"
      },
      "outputs": [],
      "source": [
        "import pandas as pd\n",
        "from sklearn.utils import resample"
      ]
    },
    {
      "cell_type": "code",
      "execution_count": null,
      "id": "b090776f-2317-425c-881c-2480defc2a7f",
      "metadata": {
        "colab": {
          "base_uri": "https://localhost:8080/",
          "height": 363
        },
        "id": "b090776f-2317-425c-881c-2480defc2a7f",
        "outputId": "7b5eccdc-abd6-4816-82ba-464bc4a69882"
      },
      "outputs": [
        {
          "output_type": "execute_result",
          "data": {
            "text/plain": [
              "   label                                               text\n",
              "0      2  2967 6758 339 2021 1854 3731 4109 3792 4149 15...\n",
              "1     11  4464 486 6352 5619 2465 4802 1452 3137 5778 54...\n",
              "2      3  7346 4068 5074 3747 5681 6093 1777 2226 7354 6...\n",
              "3      2  7159 948 4866 2109 5520 2490 211 3956 5520 549...\n",
              "4      3  3646 3055 3055 2490 4659 6065 3370 5814 2465 5...\n",
              "5      9  3819 4525 1129 6725 6485 2109 3800 5264 1006 4...\n",
              "6      3  307 4780 6811 1580 7539 5886 5486 3433 6644 58...\n",
              "7     10  26 4270 1866 5977 3523 3764 4464 3659 4853 517...\n",
              "8     12  2708 2218 5915 4559 886 1241 4819 314 4261 166...\n",
              "9      3  3654 531 1348 29 4553 6722 1474 5099 7541 307 ..."
            ],
            "text/html": [
              "\n",
              "  <div id=\"df-d737f109-a71d-4ebf-b5a6-6e80764fb921\">\n",
              "    <div class=\"colab-df-container\">\n",
              "      <div>\n",
              "<style scoped>\n",
              "    .dataframe tbody tr th:only-of-type {\n",
              "        vertical-align: middle;\n",
              "    }\n",
              "\n",
              "    .dataframe tbody tr th {\n",
              "        vertical-align: top;\n",
              "    }\n",
              "\n",
              "    .dataframe thead th {\n",
              "        text-align: right;\n",
              "    }\n",
              "</style>\n",
              "<table border=\"1\" class=\"dataframe\">\n",
              "  <thead>\n",
              "    <tr style=\"text-align: right;\">\n",
              "      <th></th>\n",
              "      <th>label</th>\n",
              "      <th>text</th>\n",
              "    </tr>\n",
              "  </thead>\n",
              "  <tbody>\n",
              "    <tr>\n",
              "      <th>0</th>\n",
              "      <td>2</td>\n",
              "      <td>2967 6758 339 2021 1854 3731 4109 3792 4149 15...</td>\n",
              "    </tr>\n",
              "    <tr>\n",
              "      <th>1</th>\n",
              "      <td>11</td>\n",
              "      <td>4464 486 6352 5619 2465 4802 1452 3137 5778 54...</td>\n",
              "    </tr>\n",
              "    <tr>\n",
              "      <th>2</th>\n",
              "      <td>3</td>\n",
              "      <td>7346 4068 5074 3747 5681 6093 1777 2226 7354 6...</td>\n",
              "    </tr>\n",
              "    <tr>\n",
              "      <th>3</th>\n",
              "      <td>2</td>\n",
              "      <td>7159 948 4866 2109 5520 2490 211 3956 5520 549...</td>\n",
              "    </tr>\n",
              "    <tr>\n",
              "      <th>4</th>\n",
              "      <td>3</td>\n",
              "      <td>3646 3055 3055 2490 4659 6065 3370 5814 2465 5...</td>\n",
              "    </tr>\n",
              "    <tr>\n",
              "      <th>5</th>\n",
              "      <td>9</td>\n",
              "      <td>3819 4525 1129 6725 6485 2109 3800 5264 1006 4...</td>\n",
              "    </tr>\n",
              "    <tr>\n",
              "      <th>6</th>\n",
              "      <td>3</td>\n",
              "      <td>307 4780 6811 1580 7539 5886 5486 3433 6644 58...</td>\n",
              "    </tr>\n",
              "    <tr>\n",
              "      <th>7</th>\n",
              "      <td>10</td>\n",
              "      <td>26 4270 1866 5977 3523 3764 4464 3659 4853 517...</td>\n",
              "    </tr>\n",
              "    <tr>\n",
              "      <th>8</th>\n",
              "      <td>12</td>\n",
              "      <td>2708 2218 5915 4559 886 1241 4819 314 4261 166...</td>\n",
              "    </tr>\n",
              "    <tr>\n",
              "      <th>9</th>\n",
              "      <td>3</td>\n",
              "      <td>3654 531 1348 29 4553 6722 1474 5099 7541 307 ...</td>\n",
              "    </tr>\n",
              "  </tbody>\n",
              "</table>\n",
              "</div>\n",
              "      <button class=\"colab-df-convert\" onclick=\"convertToInteractive('df-d737f109-a71d-4ebf-b5a6-6e80764fb921')\"\n",
              "              title=\"Convert this dataframe to an interactive table.\"\n",
              "              style=\"display:none;\">\n",
              "        \n",
              "  <svg xmlns=\"http://www.w3.org/2000/svg\" height=\"24px\"viewBox=\"0 0 24 24\"\n",
              "       width=\"24px\">\n",
              "    <path d=\"M0 0h24v24H0V0z\" fill=\"none\"/>\n",
              "    <path d=\"M18.56 5.44l.94 2.06.94-2.06 2.06-.94-2.06-.94-.94-2.06-.94 2.06-2.06.94zm-11 1L8.5 8.5l.94-2.06 2.06-.94-2.06-.94L8.5 2.5l-.94 2.06-2.06.94zm10 10l.94 2.06.94-2.06 2.06-.94-2.06-.94-.94-2.06-.94 2.06-2.06.94z\"/><path d=\"M17.41 7.96l-1.37-1.37c-.4-.4-.92-.59-1.43-.59-.52 0-1.04.2-1.43.59L10.3 9.45l-7.72 7.72c-.78.78-.78 2.05 0 2.83L4 21.41c.39.39.9.59 1.41.59.51 0 1.02-.2 1.41-.59l7.78-7.78 2.81-2.81c.8-.78.8-2.07 0-2.86zM5.41 20L4 18.59l7.72-7.72 1.47 1.35L5.41 20z\"/>\n",
              "  </svg>\n",
              "      </button>\n",
              "      \n",
              "  <style>\n",
              "    .colab-df-container {\n",
              "      display:flex;\n",
              "      flex-wrap:wrap;\n",
              "      gap: 12px;\n",
              "    }\n",
              "\n",
              "    .colab-df-convert {\n",
              "      background-color: #E8F0FE;\n",
              "      border: none;\n",
              "      border-radius: 50%;\n",
              "      cursor: pointer;\n",
              "      display: none;\n",
              "      fill: #1967D2;\n",
              "      height: 32px;\n",
              "      padding: 0 0 0 0;\n",
              "      width: 32px;\n",
              "    }\n",
              "\n",
              "    .colab-df-convert:hover {\n",
              "      background-color: #E2EBFA;\n",
              "      box-shadow: 0px 1px 2px rgba(60, 64, 67, 0.3), 0px 1px 3px 1px rgba(60, 64, 67, 0.15);\n",
              "      fill: #174EA6;\n",
              "    }\n",
              "\n",
              "    [theme=dark] .colab-df-convert {\n",
              "      background-color: #3B4455;\n",
              "      fill: #D2E3FC;\n",
              "    }\n",
              "\n",
              "    [theme=dark] .colab-df-convert:hover {\n",
              "      background-color: #434B5C;\n",
              "      box-shadow: 0px 1px 3px 1px rgba(0, 0, 0, 0.15);\n",
              "      filter: drop-shadow(0px 1px 2px rgba(0, 0, 0, 0.3));\n",
              "      fill: #FFFFFF;\n",
              "    }\n",
              "  </style>\n",
              "\n",
              "      <script>\n",
              "        const buttonEl =\n",
              "          document.querySelector('#df-d737f109-a71d-4ebf-b5a6-6e80764fb921 button.colab-df-convert');\n",
              "        buttonEl.style.display =\n",
              "          google.colab.kernel.accessAllowed ? 'block' : 'none';\n",
              "\n",
              "        async function convertToInteractive(key) {\n",
              "          const element = document.querySelector('#df-d737f109-a71d-4ebf-b5a6-6e80764fb921');\n",
              "          const dataTable =\n",
              "            await google.colab.kernel.invokeFunction('convertToInteractive',\n",
              "                                                     [key], {});\n",
              "          if (!dataTable) return;\n",
              "\n",
              "          const docLinkHtml = 'Like what you see? Visit the ' +\n",
              "            '<a target=\"_blank\" href=https://colab.research.google.com/notebooks/data_table.ipynb>data table notebook</a>'\n",
              "            + ' to learn more about interactive tables.';\n",
              "          element.innerHTML = '';\n",
              "          dataTable['output_type'] = 'display_data';\n",
              "          await google.colab.output.renderOutput(dataTable, element);\n",
              "          const docLink = document.createElement('div');\n",
              "          docLink.innerHTML = docLinkHtml;\n",
              "          element.appendChild(docLink);\n",
              "        }\n",
              "      </script>\n",
              "    </div>\n",
              "  </div>\n",
              "  "
            ]
          },
          "metadata": {},
          "execution_count": 3
        }
      ],
      "source": [
        "train_df = pd.read_csv('/content/drive/MyDrive/news/train_set.csv', sep='\\t', nrows=30000)   #sep='\\t'表示数据文件使用制表符分隔每个字段\n",
        "train_df.head(10)"
      ]
    },
    {
      "cell_type": "code",
      "source": [
        "class_counts = train_df['label'].value_counts()\n",
        "minority_class = class_counts.idxmin()\n",
        "df_balanced = pd.DataFrame()  # 创建空的数据框用于存储均衡后的数据\n",
        "\n",
        "for label in train_df['label'].unique():\n",
        "    df_label = train_df[train_df['label'] == label]\n",
        "    df_balanced = df_balanced.append(df_label.sample(n=class_counts[minority_class], replace=True, random_state=1234))\n",
        "\n",
        "df_balanced.reset_index(drop=True, inplace=True)  # 重置索引\n"
      ],
      "metadata": {
        "colab": {
          "base_uri": "https://localhost:8080/"
        },
        "id": "lGk5l2911yQb",
        "outputId": "8258f810-0bf5-4e05-cf88-d4ab079d8207"
      },
      "id": "lGk5l2911yQb",
      "execution_count": null,
      "outputs": [
        {
          "output_type": "stream",
          "name": "stderr",
          "text": [
            "<ipython-input-4-6da4dfb2971c>:7: FutureWarning: The frame.append method is deprecated and will be removed from pandas in a future version. Use pandas.concat instead.\n",
            "  df_balanced = df_balanced.append(df_label.sample(n=class_counts[minority_class], replace=True, random_state=1234))\n",
            "<ipython-input-4-6da4dfb2971c>:7: FutureWarning: The frame.append method is deprecated and will be removed from pandas in a future version. Use pandas.concat instead.\n",
            "  df_balanced = df_balanced.append(df_label.sample(n=class_counts[minority_class], replace=True, random_state=1234))\n",
            "<ipython-input-4-6da4dfb2971c>:7: FutureWarning: The frame.append method is deprecated and will be removed from pandas in a future version. Use pandas.concat instead.\n",
            "  df_balanced = df_balanced.append(df_label.sample(n=class_counts[minority_class], replace=True, random_state=1234))\n",
            "<ipython-input-4-6da4dfb2971c>:7: FutureWarning: The frame.append method is deprecated and will be removed from pandas in a future version. Use pandas.concat instead.\n",
            "  df_balanced = df_balanced.append(df_label.sample(n=class_counts[minority_class], replace=True, random_state=1234))\n",
            "<ipython-input-4-6da4dfb2971c>:7: FutureWarning: The frame.append method is deprecated and will be removed from pandas in a future version. Use pandas.concat instead.\n",
            "  df_balanced = df_balanced.append(df_label.sample(n=class_counts[minority_class], replace=True, random_state=1234))\n",
            "<ipython-input-4-6da4dfb2971c>:7: FutureWarning: The frame.append method is deprecated and will be removed from pandas in a future version. Use pandas.concat instead.\n",
            "  df_balanced = df_balanced.append(df_label.sample(n=class_counts[minority_class], replace=True, random_state=1234))\n",
            "<ipython-input-4-6da4dfb2971c>:7: FutureWarning: The frame.append method is deprecated and will be removed from pandas in a future version. Use pandas.concat instead.\n",
            "  df_balanced = df_balanced.append(df_label.sample(n=class_counts[minority_class], replace=True, random_state=1234))\n",
            "<ipython-input-4-6da4dfb2971c>:7: FutureWarning: The frame.append method is deprecated and will be removed from pandas in a future version. Use pandas.concat instead.\n",
            "  df_balanced = df_balanced.append(df_label.sample(n=class_counts[minority_class], replace=True, random_state=1234))\n",
            "<ipython-input-4-6da4dfb2971c>:7: FutureWarning: The frame.append method is deprecated and will be removed from pandas in a future version. Use pandas.concat instead.\n",
            "  df_balanced = df_balanced.append(df_label.sample(n=class_counts[minority_class], replace=True, random_state=1234))\n",
            "<ipython-input-4-6da4dfb2971c>:7: FutureWarning: The frame.append method is deprecated and will be removed from pandas in a future version. Use pandas.concat instead.\n",
            "  df_balanced = df_balanced.append(df_label.sample(n=class_counts[minority_class], replace=True, random_state=1234))\n",
            "<ipython-input-4-6da4dfb2971c>:7: FutureWarning: The frame.append method is deprecated and will be removed from pandas in a future version. Use pandas.concat instead.\n",
            "  df_balanced = df_balanced.append(df_label.sample(n=class_counts[minority_class], replace=True, random_state=1234))\n",
            "<ipython-input-4-6da4dfb2971c>:7: FutureWarning: The frame.append method is deprecated and will be removed from pandas in a future version. Use pandas.concat instead.\n",
            "  df_balanced = df_balanced.append(df_label.sample(n=class_counts[minority_class], replace=True, random_state=1234))\n",
            "<ipython-input-4-6da4dfb2971c>:7: FutureWarning: The frame.append method is deprecated and will be removed from pandas in a future version. Use pandas.concat instead.\n",
            "  df_balanced = df_balanced.append(df_label.sample(n=class_counts[minority_class], replace=True, random_state=1234))\n",
            "<ipython-input-4-6da4dfb2971c>:7: FutureWarning: The frame.append method is deprecated and will be removed from pandas in a future version. Use pandas.concat instead.\n",
            "  df_balanced = df_balanced.append(df_label.sample(n=class_counts[minority_class], replace=True, random_state=1234))\n"
          ]
        }
      ]
    },
    {
      "cell_type": "markdown",
      "id": "3715d442-ee87-42ac-8974-c3e36e749d68",
      "metadata": {
        "tags": [],
        "id": "3715d442-ee87-42ac-8974-c3e36e749d68"
      },
      "source": [
        "# **数据分析**"
      ]
    },
    {
      "cell_type": "code",
      "execution_count": null,
      "id": "57482fdc-5437-4bc6-a394-d044a7072326",
      "metadata": {
        "id": "57482fdc-5437-4bc6-a394-d044a7072326"
      },
      "outputs": [],
      "source": [
        "import matplotlib.pyplot as plt\n",
        "from collections import Counter"
      ]
    },
    {
      "cell_type": "markdown",
      "source": [
        "## 原始数据"
      ],
      "metadata": {
        "id": "LGz2Z4Ta18eg"
      },
      "id": "LGz2Z4Ta18eg"
    },
    {
      "cell_type": "code",
      "execution_count": null,
      "id": "21968b1d-4dd7-4935-bdb8-6ef43a15d972",
      "metadata": {
        "colab": {
          "base_uri": "https://localhost:8080/"
        },
        "id": "21968b1d-4dd7-4935-bdb8-6ef43a15d972",
        "outputId": "4a548ad7-6222-4c92-848c-82a56210d823"
      },
      "outputs": [
        {
          "output_type": "execute_result",
          "data": {
            "text/plain": [
              "count    200000.000000\n",
              "mean        907.207110\n",
              "std         996.029036\n",
              "min           2.000000\n",
              "25%         374.000000\n",
              "50%         676.000000\n",
              "75%        1131.000000\n",
              "max       57921.000000\n",
              "Name: text_len, dtype: float64"
            ]
          },
          "metadata": {},
          "execution_count": 7
        }
      ],
      "source": [
        "#分析句子长度\n",
        "train_df['text_len'] = train_df['text'].apply(lambda x: len(x.split(' ')))\n",
        "train_df['text_len'].describe()"
      ]
    },
    {
      "cell_type": "code",
      "execution_count": null,
      "id": "a66d487d-3305-46d0-a23e-03e0aabb2616",
      "metadata": {
        "colab": {
          "base_uri": "https://localhost:8080/",
          "height": 472
        },
        "id": "a66d487d-3305-46d0-a23e-03e0aabb2616",
        "outputId": "1106f2d8-3f3a-4470-9990-cbc01aa05aa7"
      },
      "outputs": [
        {
          "output_type": "display_data",
          "data": {
            "text/plain": [
              "<Figure size 640x480 with 1 Axes>"
            ],
            "image/png": "[encoded data removed]"
          },
          "metadata": {}
        }
      ],
      "source": [
        "# 绘制句子长度的直方图\n",
        "_ = plt.hist(train_df['text_len'], bins=200)\n",
        "plt.xlabel('Text char count')\n",
        "plt.title(\"Histogram of char count\")\n",
        "plt.savefig('./text_chart_count.png')\n",
        "plt.show()"
      ]
    },
    {
      "cell_type": "code",
      "execution_count": null,
      "id": "a94b625c-be73-4c66-8fd7-57929cdb416a",
      "metadata": {
        "colab": {
          "base_uri": "https://localhost:8080/",
          "height": 475
        },
        "id": "a94b625c-be73-4c66-8fd7-57929cdb416a",
        "outputId": "c03314f9-f013-453f-825e-42b1e8646f34"
      },
      "outputs": [
        {
          "output_type": "display_data",
          "data": {
            "text/plain": [
              "<Figure size 640x480 with 1 Axes>"
            ],
            "image/png": "[encoded data removed]"
          },
          "metadata": {}
        }
      ],
      "source": [
        "#绘制每类新闻样本个数的直方图\n",
        "train_df['label'].value_counts().plot(kind='bar')\n",
        "plt.title('News class count')\n",
        "plt.xlabel(\"category\")\n",
        "plt.savefig('./category.png')\n",
        "plt.show()"
      ]
    },
    {
      "cell_type": "code",
      "execution_count": null,
      "id": "84e3e2ef-c265-4b79-b1b4-99e821e5305b",
      "metadata": {
        "id": "84e3e2ef-c265-4b79-b1b4-99e821e5305b"
      },
      "outputs": [],
      "source": [
        "#'text'列转换为列表，然后将列表中的元素用空格连接起来，得到一个包含所有文本的字符串。\n",
        "all_lines = ' '.join(list(train_df['text']))\n",
        "\n",
        "#对字符串进行单词计数，将每个单词作为键，出现的次数作为值，形成一个计数器对象。\n",
        "word_count = Counter(all_lines.split(\" \"))\n",
        "\n",
        "#将单词按照出现次数从大到小进行排序，根据计数器对象中的值进行排序，降序排列。\n",
        "word_count = sorted(word_count.items(), key=lambda d:d[1], reverse = True)"
      ]
    },
    {
      "cell_type": "code",
      "execution_count": null,
      "id": "a30d1a15-1b89-440d-bd23-71523da7ed93",
      "metadata": {
        "colab": {
          "base_uri": "https://localhost:8080/"
        },
        "id": "a30d1a15-1b89-440d-bd23-71523da7ed93",
        "outputId": "3d07fb6f-c397-4b0f-9852-15dd9435aa95"
      },
      "outputs": [
        {
          "output_type": "stream",
          "name": "stdout",
          "text": [
            "len(word_count):  4391\n",
            "word_count[0]:  ('3750', 72572)\n",
            "word_count[-1]:  ('1974', 1)\n"
          ]
        }
      ],
      "source": [
        "print(\"len(word_count): \", len(word_count)) \n",
        "print(\"word_count[0]: \", word_count[0]) \n",
        "print(\"word_count[-1]: \", word_count[-1]) "
      ]
    },
    {
      "cell_type": "code",
      "execution_count": null,
      "id": "ac84f895-6739-49ae-bcad-11392bb09f17",
      "metadata": {
        "id": "ac84f895-6739-49ae-bcad-11392bb09f17"
      },
      "outputs": [],
      "source": [
        "#将每个文本的唯一单词提取出来，用空格连接成一个字符串。然后将结果存储在\"text_unique\"列中。\n",
        "train_df['text_unique'] = train_df['text'].apply(lambda x: ' '.join(list(set(x.split(' ')))))\n",
        "\n",
        "#将\"text_unique\"列的所有元素连接成一个字符串\n",
        "all_lines = ' '.join(list(train_df['text_unique']))\n",
        "\n",
        "word_count = Counter(all_lines.split(\" \"))\n",
        "word_count = sorted(word_count.items(), key=lambda d: int(d[1]), reverse = True)"
      ]
    },
    {
      "cell_type": "code",
      "execution_count": null,
      "id": "c0f8ff03-d495-44dc-bb3d-8fc3f1e20531",
      "metadata": {
        "colab": {
          "base_uri": "https://localhost:8080/"
        },
        "id": "c0f8ff03-d495-44dc-bb3d-8fc3f1e20531",
        "outputId": "7e48d051-ea2a-4eef-b828-054090b6c739"
      },
      "outputs": [
        {
          "output_type": "stream",
          "name": "stdout",
          "text": [
            "len(word_count):  4391\n",
            "word_count[0]:  ('900', 1986)\n",
            "word_count[1]:  ('3750', 1985)\n",
            "word_count[2]:  ('648', 1906)\n"
          ]
        }
      ],
      "source": [
        "print(\"len(word_count): \", len(word_count)) \n",
        "print(\"word_count[0]: \", word_count[0]) \n",
        "print(\"word_count[1]: \", word_count[1]) \n",
        "print(\"word_count[2]: \", word_count[2]) "
      ]
    },
    {
      "cell_type": "markdown",
      "source": [
        "## 均衡数据"
      ],
      "metadata": {
        "id": "WQpIMMwe2FIw"
      },
      "id": "WQpIMMwe2FIw"
    },
    {
      "cell_type": "code",
      "source": [
        "#分析句子长度\n",
        "df_balanced['text_len'] = df_balanced['text'].apply(lambda x: len(x.split(' ')))\n",
        "df_balanced['text_len'].describe()"
      ],
      "metadata": {
        "colab": {
          "base_uri": "https://localhost:8080/"
        },
        "id": "CS9J8drm2HWI",
        "outputId": "60311010-aa82-41ef-bac1-460d46c72582"
      },
      "id": "CS9J8drm2HWI",
      "execution_count": null,
      "outputs": [
        {
          "output_type": "execute_result",
          "data": {
            "text/plain": [
              "count    1890.000000\n",
              "mean      895.621693\n",
              "std       832.590781\n",
              "min        24.000000\n",
              "25%       343.250000\n",
              "50%       659.000000\n",
              "75%      1144.000000\n",
              "max      6050.000000\n",
              "Name: text_len, dtype: float64"
            ]
          },
          "metadata": {},
          "execution_count": 6
        }
      ]
    },
    {
      "cell_type": "code",
      "source": [
        "# 绘制句子长度的直方图\n",
        "_ = plt.hist(df_balanced['text_len'], bins=200)\n",
        "plt.xlabel('Text char count')\n",
        "plt.title(\"Histogram of char count\")\n",
        "plt.savefig('./text_chart_count.png')\n",
        "plt.show()"
      ],
      "metadata": {
        "colab": {
          "base_uri": "https://localhost:8080/",
          "height": 472
        },
        "id": "vm_d3GuD2Zhz",
        "outputId": "5caaee52-e189-4e34-e27e-33c29fd4af09"
      },
      "id": "vm_d3GuD2Zhz",
      "execution_count": null,
      "outputs": [
        {
          "output_type": "display_data",
          "data": {
            "text/plain": [
              "<Figure size 640x480 with 1 Axes>"
            ],
            "image/png": "[encoded data removed]"
          },
          "metadata": {}
        }
      ]
    },
    {
      "cell_type": "code",
      "source": [
        "#绘制每类新闻样本个数的直方图\n",
        "df_balanced['label'].value_counts().plot(kind='bar')\n",
        "plt.title('News class count')\n",
        "plt.xlabel(\"category\")\n",
        "plt.savefig('./category.png')\n",
        "plt.show()"
      ],
      "metadata": {
        "colab": {
          "base_uri": "https://localhost:8080/",
          "height": 475
        },
        "id": "NeCzpSBZ2hiv",
        "outputId": "53db3fe2-0bb6-4cc3-d61c-c22154f0aca0"
      },
      "id": "NeCzpSBZ2hiv",
      "execution_count": null,
      "outputs": [
        {
          "output_type": "display_data",
          "data": {
            "text/plain": [
              "<Figure size 640x480 with 1 Axes>"
            ],
            "image/png": "[encoded data removed]"
          },
          "metadata": {}
        }
      ]
    },
    {
      "cell_type": "code",
      "source": [
        "#'text'列转换为列表，然后将列表中的元素用空格连接起来，得到一个包含所有文本的字符串。\n",
        "all_lines = ' '.join(list(df_balanced['text']))\n",
        "\n",
        "#对字符串进行单词计数，将每个单词作为键，出现的次数作为值，形成一个计数器对象。\n",
        "word_count = Counter(all_lines.split(\" \"))\n",
        "\n",
        "#将单词按照出现次数从大到小进行排序，根据计数器对象中的值进行排序，降序排列。\n",
        "word_count = sorted(word_count.items(), key=lambda d:d[1], reverse = True)"
      ],
      "metadata": {
        "id": "Ogat4PcA7yfo"
      },
      "id": "Ogat4PcA7yfo",
      "execution_count": null,
      "outputs": []
    },
    {
      "cell_type": "code",
      "source": [
        "print(\"len(word_count): \", len(word_count)) \n",
        "print(\"word_count[0]: \", word_count[0]) \n",
        "print(\"word_count[-1]: \", word_count[-1]) "
      ],
      "metadata": {
        "colab": {
          "base_uri": "https://localhost:8080/"
        },
        "id": "AMcbigk175N9",
        "outputId": "69a33f0e-cdac-4ed3-d215-b28daea12420"
      },
      "id": "AMcbigk175N9",
      "execution_count": null,
      "outputs": [
        {
          "output_type": "stream",
          "name": "stdout",
          "text": [
            "len(word_count):  4461\n",
            "word_count[0]:  ('3750', 71521)\n",
            "word_count[-1]:  ('193', 1)\n"
          ]
        }
      ]
    },
    {
      "cell_type": "code",
      "source": [
        "#将每个文本的唯一单词提取出来，用空格连接成一个字符串。然后将结果存储在\"text_unique\"列中。\n",
        "df_balanced['text_unique'] = df_balanced['text'].apply(lambda x: ' '.join(list(set(x.split(' ')))))\n",
        "\n",
        "#将\"text_unique\"列的所有元素连接成一个字符串\n",
        "all_lines = ' '.join(list(df_balanced['text_unique']))\n",
        "\n",
        "word_count = Counter(all_lines.split(\" \"))\n",
        "word_count = sorted(word_count.items(), key=lambda d: int(d[1]), reverse = True)"
      ],
      "metadata": {
        "id": "TeOEQorY794J"
      },
      "id": "TeOEQorY794J",
      "execution_count": null,
      "outputs": []
    },
    {
      "cell_type": "code",
      "source": [
        "print(\"len(word_count): \", len(word_count)) \n",
        "print(\"word_count[0]: \", word_count[0]) \n",
        "print(\"word_count[1]: \", word_count[1]) \n",
        "print(\"word_count[2]: \", word_count[2]) "
      ],
      "metadata": {
        "colab": {
          "base_uri": "https://localhost:8080/"
        },
        "id": "D1418iRr8CzG",
        "outputId": "82e03418-65d5-4448-d507-15960c12aec9"
      },
      "id": "D1418iRr8CzG",
      "execution_count": null,
      "outputs": [
        {
          "output_type": "stream",
          "name": "stdout",
          "text": [
            "len(word_count):  4461\n",
            "word_count[0]:  ('3750', 1871)\n",
            "word_count[1]:  ('900', 1853)\n",
            "word_count[2]:  ('648', 1812)\n"
          ]
        }
      ]
    },
    {
      "cell_type": "markdown",
      "id": "a1609e96-d2d2-42b0-af54-fd2599ff4dd9",
      "metadata": {
        "id": "a1609e96-d2d2-42b0-af54-fd2599ff4dd9"
      },
      "source": [
        "# **机器学习编码**"
      ]
    },
    {
      "cell_type": "code",
      "execution_count": null,
      "id": "b3cbde60-867e-46aa-85c3-9477f18515e0",
      "metadata": {
        "id": "b3cbde60-867e-46aa-85c3-9477f18515e0"
      },
      "outputs": [],
      "source": [
        "import pandas as pd\n",
        "import numpy as np\n",
        "from sklearn.feature_extraction.text import CountVectorizer\n",
        "from sklearn.feature_extraction.text import TfidfVectorizer"
      ]
    },
    {
      "cell_type": "markdown",
      "id": "886f40dd-5aeb-41e7-beac-04d6990f3409",
      "metadata": {
        "id": "886f40dd-5aeb-41e7-beac-04d6990f3409"
      },
      "source": [
        "## Count-Vectors词袋"
      ]
    },
    {
      "cell_type": "code",
      "execution_count": null,
      "id": "c089398c-d007-4757-b72b-c5ff83326689",
      "metadata": {
        "id": "c089398c-d007-4757-b72b-c5ff83326689"
      },
      "outputs": [],
      "source": [
        "#创建一个CountVectorizer对象，最多选择1000个最常见的单词进行向量化\n",
        "vectorizer = CountVectorizer(max_features=1000)\n",
        "\n",
        "#fit_transform方法返回一个稀疏矩阵表示的文本向量化结果\n",
        "train_test_CV = vectorizer.fit_transform(df_balanced['text'])"
      ]
    },
    {
      "cell_type": "code",
      "execution_count": null,
      "id": "419aea85-4cde-42b8-b5e2-5a8837af3376",
      "metadata": {
        "id": "419aea85-4cde-42b8-b5e2-5a8837af3376",
        "outputId": "7b81d33d-2d2b-40fd-bf51-ca0e05ea44b8",
        "colab": {
          "base_uri": "https://localhost:8080/"
        }
      },
      "outputs": [
        {
          "output_type": "execute_result",
          "data": {
            "text/plain": [
              "array([[ 0,  0,  0,  2,  0,  0,  0, 11,  0, 12,  0,  0,  0,  0,  0,  0,\n",
              "         0,  0,  2,  0,  0,  0],\n",
              "       [ 0,  0,  0,  4,  0,  0,  0,  8,  3, 11,  0,  1,  0,  0,  0,  0,\n",
              "         0,  0,  0,  1,  0,  0]])"
            ]
          },
          "metadata": {},
          "execution_count": 50
        }
      ],
      "source": [
        "train_test_CV_array = train_test_CV.toarray()\n",
        "train_test_CV_array[:2, :22]"
      ]
    },
    {
      "cell_type": "markdown",
      "id": "9bb9c087-fab7-47fb-9870-faccbf45b914",
      "metadata": {
        "id": "9bb9c087-fab7-47fb-9870-faccbf45b914"
      },
      "source": [
        "## TF-IDF"
      ]
    },
    {
      "cell_type": "code",
      "execution_count": null,
      "id": "ac64b63b-2170-4349-bebd-866e9348f35f",
      "metadata": {
        "id": "ac64b63b-2170-4349-bebd-866e9348f35f",
        "colab": {
          "base_uri": "https://localhost:8080/"
        },
        "outputId": "14f036b3-1aff-45e1-8545-455fd4e4ab90"
      },
      "outputs": [
        {
          "output_type": "execute_result",
          "data": {
            "text/plain": [
              "(1890, 1000)"
            ]
          },
          "metadata": {},
          "execution_count": 42
        }
      ],
      "source": [
        "#创建一个TfidfVectorizer对象，考虑单个词语、两个词语的组合以及三个词语的组合作为特征，最多选择1000个最重要的特征进行向量化。\n",
        "tfidf = TfidfVectorizer(ngram_range=(1, 3), max_features=1000)\n",
        "\n",
        "#fit_transform方法返回一个稀疏矩阵表示的文本向量化结果\n",
        "train_test_TF = tfidf.fit_transform(df_balanced['text'])\n",
        "\n",
        "train_test_TF.shape"
      ]
    },
    {
      "cell_type": "code",
      "execution_count": null,
      "id": "c2139484-5f0d-48db-a73a-107e133558ab",
      "metadata": {
        "colab": {
          "base_uri": "https://localhost:8080/"
        },
        "id": "c2139484-5f0d-48db-a73a-107e133558ab",
        "outputId": "108f913d-c231-4c37-a56b-3cd7dd7d2894"
      },
      "outputs": [
        {
          "output_type": "execute_result",
          "data": {
            "text/plain": [
              "array([[0.        , 0.        , 0.        , 0.04988234, 0.        ,\n",
              "        0.        , 0.25094515, 0.06943774, 0.17910699, 0.        ,\n",
              "        0.        , 0.38258354, 0.        , 0.        , 0.        ,\n",
              "        0.        , 0.        , 0.        , 0.        , 0.        ,\n",
              "        0.        , 0.        ],\n",
              "       [0.        , 0.        , 0.        , 0.04647173, 0.        ,\n",
              "        0.        , 0.08501354, 0.06469005, 0.01390507, 0.02679652,\n",
              "        0.0125071 , 0.16336149, 0.        , 0.01617251, 0.        ,\n",
              "        0.        , 0.        , 0.        , 0.        , 0.        ,\n",
              "        0.01148706, 0.        ]])"
            ]
          },
          "metadata": {},
          "execution_count": 18
        }
      ],
      "source": [
        "train_test_TF_array = train_test_TF.toarray()\n",
        "train_test_TF_array[:2, :22]"
      ]
    },
    {
      "cell_type": "markdown",
      "id": "fe3ab79b-d88b-4060-9726-d550d75e7c7b",
      "metadata": {
        "id": "fe3ab79b-d88b-4060-9726-d550d75e7c7b"
      },
      "source": [
        "# **机器学习文本分类**"
      ]
    },
    {
      "cell_type": "code",
      "execution_count": null,
      "id": "c4e755d8-bbbd-400c-9f11-5c3088d83f9a",
      "metadata": {
        "id": "c4e755d8-bbbd-400c-9f11-5c3088d83f9a"
      },
      "outputs": [],
      "source": [
        "from sklearn.linear_model import RidgeClassifier\n",
        "from sklearn.metrics import f1_score\n",
        "import lightgbm as lgb\n",
        "from sklearn.model_selection import train_test_split\n",
        "\n",
        "from sklearn.datasets import load_iris\n",
        "from sklearn.model_selection import GridSearchCV\n",
        "from lightgbm import LGBMClassifier"
      ]
    },
    {
      "cell_type": "markdown",
      "source": [
        "## gpu尝试"
      ],
      "metadata": {
        "id": "Q2EMYD_0TmXO"
      },
      "id": "Q2EMYD_0TmXO"
    },
    {
      "cell_type": "code",
      "source": [
        "!git clone https://github.com/Microsoft/LightGBM"
      ],
      "metadata": {
        "colab": {
          "base_uri": "https://localhost:8080/"
        },
        "id": "s1YwhXLnHGPo",
        "outputId": "78384500-8916-4580-ff76-49a51c29daec"
      },
      "id": "s1YwhXLnHGPo",
      "execution_count": null,
      "outputs": [
        {
          "output_type": "stream",
          "name": "stdout",
          "text": [
            "Cloning into 'LightGBM'...\n",
            "remote: Enumerating objects: 29605, done.\u001b[K\n",
            "remote: Counting objects: 100% (3139/3139), done.\u001b[K\n",
            "remote: Compressing objects: 100% (291/291), done.\u001b[K\n",
            "remote: Total 29605 (delta 2945), reused 2962 (delta 2847), pack-reused 26466\u001b[K\n",
            "Receiving objects: 100% (29605/29605), 20.56 MiB | 19.46 MiB/s, done.\n",
            "Resolving deltas: 100% (22002/22002), done.\n"
          ]
        }
      ]
    },
    {
      "cell_type": "code",
      "source": [
        "%cd /content/drive/MyDrive/LightGBM\n",
        "!git submodule update --init --recursive"
      ],
      "metadata": {
        "colab": {
          "base_uri": "https://localhost:8080/"
        },
        "id": "g9c1Q5w8ICP1",
        "outputId": "e4eaf6a7-1c09-41a4-9353-705f3700c2ef"
      },
      "id": "g9c1Q5w8ICP1",
      "execution_count": null,
      "outputs": [
        {
          "output_type": "stream",
          "name": "stdout",
          "text": [
            "/content/drive/MyDrive/LightGBM\n"
          ]
        }
      ]
    },
    {
      "cell_type": "code",
      "source": [
        "%cd /content/drive/MyDrive/LightGBM/\n",
        "!mkdir build\n",
        "!cmake -DUSE_GPU=1 #avoid ..\n",
        "!make -j$(nproc)"
      ],
      "metadata": {
        "colab": {
          "base_uri": "https://localhost:8080/"
        },
        "id": "awqSh0FXHPlJ",
        "outputId": "0718edfb-7803-41b2-bb88-e5fbbbe5ec95"
      },
      "id": "awqSh0FXHPlJ",
      "execution_count": null,
      "outputs": [
        {
          "output_type": "stream",
          "name": "stdout",
          "text": [
            "/content/drive/MyDrive/LightGBM\n",
            "mkdir: cannot create directory ‘build’: File exists\n",
            "\u001b[33mCMake Warning:\n",
            "  No source or binary directory provided.  Both will be assumed to be the\n",
            "  same as the current working directory, but note that this warning will\n",
            "  become a fatal error in future CMake releases.\n",
            "\n",
            "\u001b[0m\n",
            "-- OpenCL include directory: /usr/include\n",
            "-- Using _mm_prefetch\n",
            "-- Using _mm_malloc\n",
            "-- Configuring done\n",
            "-- Generating done\n",
            "-- Build files have been written to: /content/drive/MyDrive/LightGBM\n",
            "[ -1%] \u001b[32mBuilding CXX object CMakeFiles/lightgbm_objs.dir/src/boosting/boosting.cpp.o\u001b[0m\n",
            "[  0%] \u001b[32mBuilding CXX object CMakeFiles/lightgbm_capi_objs.dir/src/c_api.cpp.o\u001b[0m\n",
            "[  1%] \u001b[32mBuilding CXX object CMakeFiles/lightgbm_objs.dir/src/boosting/cuda/cuda_score_updater.cpp.o\u001b[0m\n",
            "[  3%] \u001b[32mBuilding CXX object CMakeFiles/lightgbm_objs.dir/src/boosting/gbdt.cpp.o\u001b[0m\n",
            "[  3%] Built target lightgbm_capi_objs\n",
            "[  5%] \u001b[32mBuilding CXX object CMakeFiles/lightgbm_objs.dir/src/boosting/gbdt_model_text.cpp.o\u001b[0m\n",
            "[  7%] \u001b[32mBuilding CXX object CMakeFiles/lightgbm_objs.dir/src/boosting/gbdt_prediction.cpp.o\u001b[0m\n",
            "[  9%] \u001b[32mBuilding CXX object CMakeFiles/lightgbm_objs.dir/src/boosting/prediction_early_stop.cpp.o\u001b[0m\n",
            "[ 10%] \u001b[32mBuilding CXX object CMakeFiles/lightgbm_objs.dir/src/boosting/sample_strategy.cpp.o\u001b[0m\n",
            "[ 12%] \u001b[32mBuilding CXX object CMakeFiles/lightgbm_objs.dir/src/cuda/cuda_utils.cpp.o\u001b[0m\n",
            "[ 14%] \u001b[32mBuilding CXX object CMakeFiles/lightgbm_objs.dir/src/io/bin.cpp.o\u001b[0m\n",
            "[ 16%] \u001b[32mBuilding CXX object CMakeFiles/lightgbm_objs.dir/src/io/config.cpp.o\u001b[0m\n",
            "[ 18%] \u001b[32mBuilding CXX object CMakeFiles/lightgbm_objs.dir/src/io/config_auto.cpp.o\u001b[0m\n",
            "[ 20%] \u001b[32mBuilding CXX object CMakeFiles/lightgbm_objs.dir/src/io/cuda/cuda_column_data.cpp.o\u001b[0m\n",
            "[ 21%] \u001b[32mBuilding CXX object CMakeFiles/lightgbm_objs.dir/src/io/cuda/cuda_metadata.cpp.o\u001b[0m\n",
            "[ 23%] \u001b[32mBuilding CXX object CMakeFiles/lightgbm_objs.dir/src/io/cuda/cuda_row_data.cpp.o\u001b[0m\n",
            "[ 25%] \u001b[32mBuilding CXX object CMakeFiles/lightgbm_objs.dir/src/io/cuda/cuda_tree.cpp.o\u001b[0m\n",
            "[ 27%] \u001b[32mBuilding CXX object CMakeFiles/lightgbm_objs.dir/src/io/dataset.cpp.o\u001b[0m\n",
            "[ 29%] \u001b[32mBuilding CXX object CMakeFiles/lightgbm_objs.dir/src/io/dataset_loader.cpp.o\u001b[0m\n",
            "[ 30%] \u001b[32mBuilding CXX object CMakeFiles/lightgbm_objs.dir/src/io/file_io.cpp.o\u001b[0m\n",
            "[ 32%] \u001b[32mBuilding CXX object CMakeFiles/lightgbm_objs.dir/src/io/json11.cpp.o\u001b[0m\n",
            "[ 34%] \u001b[32mBuilding CXX object CMakeFiles/lightgbm_objs.dir/src/io/metadata.cpp.o\u001b[0m\n",
            "[ 36%] \u001b[32mBuilding CXX object CMakeFiles/lightgbm_objs.dir/src/io/parser.cpp.o\u001b[0m\n",
            "[ 38%] \u001b[32mBuilding CXX object CMakeFiles/lightgbm_objs.dir/src/io/train_share_states.cpp.o\u001b[0m\n",
            "[ 40%] \u001b[32mBuilding CXX object CMakeFiles/lightgbm_objs.dir/src/io/tree.cpp.o\u001b[0m\n",
            "[ 41%] \u001b[32mBuilding CXX object CMakeFiles/lightgbm_objs.dir/src/metric/cuda/cuda_binary_metric.cpp.o\u001b[0m\n",
            "[ 43%] \u001b[32mBuilding CXX object CMakeFiles/lightgbm_objs.dir/src/metric/cuda/cuda_pointwise_metric.cpp.o\u001b[0m\n",
            "[ 45%] \u001b[32mBuilding CXX object CMakeFiles/lightgbm_objs.dir/src/metric/cuda/cuda_regression_metric.cpp.o\u001b[0m\n",
            "[ 47%] \u001b[32mBuilding CXX object CMakeFiles/lightgbm_objs.dir/src/metric/dcg_calculator.cpp.o\u001b[0m\n",
            "[ 49%] \u001b[32mBuilding CXX object CMakeFiles/lightgbm_objs.dir/src/metric/metric.cpp.o\u001b[0m\n",
            "[ 50%] \u001b[32mBuilding CXX object CMakeFiles/lightgbm_objs.dir/src/network/linker_topo.cpp.o\u001b[0m\n",
            "[ 52%] \u001b[32mBuilding CXX object CMakeFiles/lightgbm_objs.dir/src/network/linkers_mpi.cpp.o\u001b[0m\n",
            "[ 54%] \u001b[32mBuilding CXX object CMakeFiles/lightgbm_objs.dir/src/network/linkers_socket.cpp.o\u001b[0m\n",
            "[ 56%] \u001b[32mBuilding CXX object CMakeFiles/lightgbm_objs.dir/src/network/network.cpp.o\u001b[0m\n",
            "[ 58%] \u001b[32mBuilding CXX object CMakeFiles/lightgbm_objs.dir/src/objective/cuda/cuda_binary_objective.cpp.o\u001b[0m\n",
            "[ 60%] \u001b[32mBuilding CXX object CMakeFiles/lightgbm_objs.dir/src/objective/cuda/cuda_multiclass_objective.cpp.o\u001b[0m\n",
            "[ 61%] \u001b[32mBuilding CXX object CMakeFiles/lightgbm_objs.dir/src/objective/cuda/cuda_rank_objective.cpp.o\u001b[0m\n",
            "[ 63%] \u001b[32mBuilding CXX object CMakeFiles/lightgbm_objs.dir/src/objective/cuda/cuda_regression_objective.cpp.o\u001b[0m\n",
            "[ 65%] \u001b[32mBuilding CXX object CMakeFiles/lightgbm_objs.dir/src/objective/objective_function.cpp.o\u001b[0m\n",
            "[ 67%] \u001b[32mBuilding CXX object CMakeFiles/lightgbm_objs.dir/src/treelearner/cuda/cuda_best_split_finder.cpp.o\u001b[0m\n",
            "[ 69%] \u001b[32mBuilding CXX object CMakeFiles/lightgbm_objs.dir/src/treelearner/cuda/cuda_data_partition.cpp.o\u001b[0m\n",
            "[ 70%] \u001b[32mBuilding CXX object CMakeFiles/lightgbm_objs.dir/src/treelearner/cuda/cuda_histogram_constructor.cpp.o\u001b[0m\n",
            "[ 72%] \u001b[32mBuilding CXX object CMakeFiles/lightgbm_objs.dir/src/treelearner/cuda/cuda_leaf_splits.cpp.o\u001b[0m\n",
            "[ 74%] \u001b[32mBuilding CXX object CMakeFiles/lightgbm_objs.dir/src/treelearner/cuda/cuda_single_gpu_tree_learner.cpp.o\u001b[0m\n",
            "[ 76%] \u001b[32mBuilding CXX object CMakeFiles/lightgbm_objs.dir/src/treelearner/data_parallel_tree_learner.cpp.o\u001b[0m\n",
            "In file included from \u001b[01m\u001b[K/usr/include/CL/cl.h:32\u001b[m\u001b[K,\n",
            "                 from \u001b[01m\u001b[K/content/drive/MyDrive/LightGBM/external_libs/compute/include/boost/compute/cl.hpp:19\u001b[m\u001b[K,\n",
            "                 from \u001b[01m\u001b[K/content/drive/MyDrive/LightGBM/external_libs/compute/include/boost/compute/config.hpp:16\u001b[m\u001b[K,\n",
            "                 from \u001b[01m\u001b[K/content/drive/MyDrive/LightGBM/external_libs/compute/include/boost/compute/buffer.hpp:14\u001b[m\u001b[K,\n",
            "                 from \u001b[01m\u001b[K/content/drive/MyDrive/LightGBM/external_libs/compute/include/boost/compute/core.hpp:18\u001b[m\u001b[K,\n",
            "                 from \u001b[01m\u001b[K/content/drive/MyDrive/LightGBM/src/treelearner/gpu_tree_learner.h:33\u001b[m\u001b[K,\n",
            "                 from \u001b[01m\u001b[K/content/drive/MyDrive/LightGBM/src/treelearner/parallel_tree_learner.h:15\u001b[m\u001b[K,\n",
            "                 from \u001b[01m\u001b[K/content/drive/MyDrive/LightGBM/src/treelearner/data_parallel_tree_learner.cpp:9\u001b[m\u001b[K:\n",
            "\u001b[01m\u001b[K/usr/include/CL/cl_version.h:34:104:\u001b[m\u001b[K \u001b[01;36m\u001b[Knote: \u001b[m\u001b[K#pragma message: cl_version.h: CL_TARGET_OPENCL_VERSION is not defined. Defaulting to 220 (OpenCL 2.2)\n",
            "   34 | #pragma message(\"cl_version.h: CL_TARGET_OPENCL_VERSION is not defined. Defaulting to 220 (OpenCL 2.2)\"\u001b[01;36m\u001b[K)\u001b[m\u001b[K\n",
            "      |                                                                                                        \u001b[01;36m\u001b[K^\u001b[m\u001b[K\n",
            "[ 78%] \u001b[32mBuilding CXX object CMakeFiles/lightgbm_objs.dir/src/treelearner/feature_parallel_tree_learner.cpp.o\u001b[0m\n",
            "In file included from \u001b[01m\u001b[K/usr/include/CL/cl.h:32\u001b[m\u001b[K,\n",
            "                 from \u001b[01m\u001b[K/content/drive/MyDrive/LightGBM/external_libs/compute/include/boost/compute/cl.hpp:19\u001b[m\u001b[K,\n",
            "                 from \u001b[01m\u001b[K/content/drive/MyDrive/LightGBM/external_libs/compute/include/boost/compute/config.hpp:16\u001b[m\u001b[K,\n",
            "                 from \u001b[01m\u001b[K/content/drive/MyDrive/LightGBM/external_libs/compute/include/boost/compute/buffer.hpp:14\u001b[m\u001b[K,\n",
            "                 from \u001b[01m\u001b[K/content/drive/MyDrive/LightGBM/external_libs/compute/include/boost/compute/core.hpp:18\u001b[m\u001b[K,\n",
            "                 from \u001b[01m\u001b[K/content/drive/MyDrive/LightGBM/src/treelearner/gpu_tree_learner.h:33\u001b[m\u001b[K,\n",
            "                 from \u001b[01m\u001b[K/content/drive/MyDrive/LightGBM/src/treelearner/parallel_tree_learner.h:15\u001b[m\u001b[K,\n",
            "                 from \u001b[01m\u001b[K/content/drive/MyDrive/LightGBM/src/treelearner/feature_parallel_tree_learner.cpp:8\u001b[m\u001b[K:\n",
            "\u001b[01m\u001b[K/usr/include/CL/cl_version.h:34:104:\u001b[m\u001b[K \u001b[01;36m\u001b[Knote: \u001b[m\u001b[K#pragma message: cl_version.h: CL_TARGET_OPENCL_VERSION is not defined. Defaulting to 220 (OpenCL 2.2)\n",
            "   34 | #pragma message(\"cl_version.h: CL_TARGET_OPENCL_VERSION is not defined. Defaulting to 220 (OpenCL 2.2)\"\u001b[01;36m\u001b[K)\u001b[m\u001b[K\n",
            "      |                                                                                                        \u001b[01;36m\u001b[K^\u001b[m\u001b[K\n",
            "[ 80%] \u001b[32mBuilding CXX object CMakeFiles/lightgbm_objs.dir/src/treelearner/gpu_tree_learner.cpp.o\u001b[0m\n",
            "In file included from \u001b[01m\u001b[K/usr/include/CL/cl.h:32\u001b[m\u001b[K,\n",
            "                 from \u001b[01m\u001b[K/content/drive/MyDrive/LightGBM/external_libs/compute/include/boost/compute/cl.hpp:19\u001b[m\u001b[K,\n",
            "                 from \u001b[01m\u001b[K/content/drive/MyDrive/LightGBM/external_libs/compute/include/boost/compute/config.hpp:16\u001b[m\u001b[K,\n",
            "                 from \u001b[01m\u001b[K/content/drive/MyDrive/LightGBM/external_libs/compute/include/boost/compute/buffer.hpp:14\u001b[m\u001b[K,\n",
            "                 from \u001b[01m\u001b[K/content/drive/MyDrive/LightGBM/external_libs/compute/include/boost/compute/core.hpp:18\u001b[m\u001b[K,\n",
            "                 from \u001b[01m\u001b[K/content/drive/MyDrive/LightGBM/src/treelearner/gpu_tree_learner.h:33\u001b[m\u001b[K,\n",
            "                 from \u001b[01m\u001b[K/content/drive/MyDrive/LightGBM/src/treelearner/gpu_tree_learner.cpp:7\u001b[m\u001b[K:\n",
            "\u001b[01m\u001b[K/usr/include/CL/cl_version.h:34:104:\u001b[m\u001b[K \u001b[01;36m\u001b[Knote: \u001b[m\u001b[K#pragma message: cl_version.h: CL_TARGET_OPENCL_VERSION is not defined. Defaulting to 220 (OpenCL 2.2)\n",
            "   34 | #pragma message(\"cl_version.h: CL_TARGET_OPENCL_VERSION is not defined. Defaulting to 220 (OpenCL 2.2)\"\u001b[01;36m\u001b[K)\u001b[m\u001b[K\n",
            "      |                                                                                                        \u001b[01;36m\u001b[K^\u001b[m\u001b[K\n",
            "[ 81%] \u001b[32mBuilding CXX object CMakeFiles/lightgbm_objs.dir/src/treelearner/gradient_discretizer.cpp.o\u001b[0m\n",
            "[ 83%] \u001b[32mBuilding CXX object CMakeFiles/lightgbm_objs.dir/src/treelearner/linear_tree_learner.cpp.o\u001b[0m\n",
            "[ 85%] \u001b[32mBuilding CXX object CMakeFiles/lightgbm_objs.dir/src/treelearner/serial_tree_learner.cpp.o\u001b[0m\n",
            "[ 87%] \u001b[32mBuilding CXX object CMakeFiles/lightgbm_objs.dir/src/treelearner/tree_learner.cpp.o\u001b[0m\n",
            "In file included from \u001b[01m\u001b[K/usr/include/CL/cl.h:32\u001b[m\u001b[K,\n",
            "                 from \u001b[01m\u001b[K/content/drive/MyDrive/LightGBM/external_libs/compute/include/boost/compute/cl.hpp:19\u001b[m\u001b[K,\n",
            "                 from \u001b[01m\u001b[K/content/drive/MyDrive/LightGBM/external_libs/compute/include/boost/compute/config.hpp:16\u001b[m\u001b[K,\n",
            "                 from \u001b[01m\u001b[K/content/drive/MyDrive/LightGBM/external_libs/compute/include/boost/compute/buffer.hpp:14\u001b[m\u001b[K,\n",
            "                 from \u001b[01m\u001b[K/content/drive/MyDrive/LightGBM/external_libs/compute/include/boost/compute/core.hpp:18\u001b[m\u001b[K,\n",
            "                 from \u001b[01m\u001b[K/content/drive/MyDrive/LightGBM/src/treelearner/gpu_tree_learner.h:33\u001b[m\u001b[K,\n",
            "                 from \u001b[01m\u001b[K/content/drive/MyDrive/LightGBM/src/treelearner/tree_learner.cpp:7\u001b[m\u001b[K:\n",
            "\u001b[01m\u001b[K/usr/include/CL/cl_version.h:34:104:\u001b[m\u001b[K \u001b[01;36m\u001b[Knote: \u001b[m\u001b[K#pragma message: cl_version.h: CL_TARGET_OPENCL_VERSION is not defined. Defaulting to 220 (OpenCL 2.2)\n",
            "   34 | #pragma message(\"cl_version.h: CL_TARGET_OPENCL_VERSION is not defined. Defaulting to 220 (OpenCL 2.2)\"\u001b[01;36m\u001b[K)\u001b[m\u001b[K\n",
            "      |                                                                                                        \u001b[01;36m\u001b[K^\u001b[m\u001b[K\n",
            "[ 89%] \u001b[32mBuilding CXX object CMakeFiles/lightgbm_objs.dir/src/treelearner/voting_parallel_tree_learner.cpp.o\u001b[0m\n",
            "In file included from \u001b[01m\u001b[K/usr/include/CL/cl.h:32\u001b[m\u001b[K,\n",
            "                 from \u001b[01m\u001b[K/content/drive/MyDrive/LightGBM/external_libs/compute/include/boost/compute/cl.hpp:19\u001b[m\u001b[K,\n",
            "                 from \u001b[01m\u001b[K/content/drive/MyDrive/LightGBM/external_libs/compute/include/boost/compute/config.hpp:16\u001b[m\u001b[K,\n",
            "                 from \u001b[01m\u001b[K/content/drive/MyDrive/LightGBM/external_libs/compute/include/boost/compute/buffer.hpp:14\u001b[m\u001b[K,\n",
            "                 from \u001b[01m\u001b[K/content/drive/MyDrive/LightGBM/external_libs/compute/include/boost/compute/core.hpp:18\u001b[m\u001b[K,\n",
            "                 from \u001b[01m\u001b[K/content/drive/MyDrive/LightGBM/src/treelearner/gpu_tree_learner.h:33\u001b[m\u001b[K,\n",
            "                 from \u001b[01m\u001b[K/content/drive/MyDrive/LightGBM/src/treelearner/parallel_tree_learner.h:15\u001b[m\u001b[K,\n",
            "                 from \u001b[01m\u001b[K/content/drive/MyDrive/LightGBM/src/treelearner/voting_parallel_tree_learner.cpp:11\u001b[m\u001b[K:\n",
            "\u001b[01m\u001b[K/usr/include/CL/cl_version.h:34:104:\u001b[m\u001b[K \u001b[01;36m\u001b[Knote: \u001b[m\u001b[K#pragma message: cl_version.h: CL_TARGET_OPENCL_VERSION is not defined. Defaulting to 220 (OpenCL 2.2)\n",
            "   34 | #pragma message(\"cl_version.h: CL_TARGET_OPENCL_VERSION is not defined. Defaulting to 220 (OpenCL 2.2)\"\u001b[01;36m\u001b[K)\u001b[m\u001b[K\n",
            "      |                                                                                                        \u001b[01;36m\u001b[K^\u001b[m\u001b[K\n",
            "[ 89%] Built target lightgbm_objs\n",
            "[ 90%] \u001b[32mBuilding CXX object CMakeFiles/lightgbm.dir/src/main.cpp.o\u001b[0m\n",
            "[ 92%] \u001b[32m\u001b[1mLinking CXX shared library lib_lightgbm.so\u001b[0m\n",
            "[ 94%] \u001b[32mBuilding CXX object CMakeFiles/lightgbm.dir/src/application/application.cpp.o\u001b[0m\n",
            "[ 96%] \u001b[32m\u001b[1mLinking CXX executable lightgbm\u001b[0m\n",
            "[ 96%] Built target lightgbm\n",
            "[ 96%] Built target _lightgbm\n"
          ]
        }
      ]
    },
    {
      "cell_type": "code",
      "source": [
        "!sudo apt-get -y install python-pip"
      ],
      "metadata": {
        "colab": {
          "base_uri": "https://localhost:8080/"
        },
        "id": "SFctpHP0KPXf",
        "outputId": "be9eb694-252e-46c8-e899-a58abaa3c85b"
      },
      "id": "SFctpHP0KPXf",
      "execution_count": null,
      "outputs": [
        {
          "output_type": "stream",
          "name": "stdout",
          "text": [
            "Reading package lists... Done\n",
            "Building dependency tree       \n",
            "Reading state information... Done\n",
            "Package python-pip is not available, but is referred to by another package.\n",
            "This may mean that the package is missing, has been obsoleted, or\n",
            "is only available from another source\n",
            "However the following packages replace it:\n",
            "  python3-pip\n",
            "\n",
            "E: Package 'python-pip' has no installation candidate\n"
          ]
        }
      ]
    },
    {
      "cell_type": "code",
      "source": [
        "!sudo -H pip install setuptools pandas numpy scipy scikit-learn -U"
      ],
      "metadata": {
        "colab": {
          "base_uri": "https://localhost:8080/"
        },
        "id": "fw49HPk7KSQR",
        "outputId": "b30a1482-59f7-4850-88ea-ca6dd2b041ae"
      },
      "id": "fw49HPk7KSQR",
      "execution_count": null,
      "outputs": [
        {
          "output_type": "stream",
          "name": "stdout",
          "text": [
            "Looking in indexes: https://pypi.org/simple, https://us-python.pkg.dev/colab-wheels/public/simple/\n",
            "Requirement already satisfied: setuptools in /usr/local/lib/python3.10/dist-packages (67.7.2)\n",
            "Collecting setuptools\n",
            "  Downloading setuptools-67.8.0-py3-none-any.whl (1.1 MB)\n",
            "\u001b[2K     \u001b[90m━━━━━━━━━━━━━━━━━━━━━━━━━━━━━━━━━━━━━━━━\u001b[0m \u001b[32m1.1/1.1 MB\u001b[0m \u001b[31m18.2 MB/s\u001b[0m eta \u001b[36m0:00:00\u001b[0m\n",
            "\u001b[?25hRequirement already satisfied: pandas in /usr/local/lib/python3.10/dist-packages (1.5.3)\n",
            "Collecting pandas\n",
            "  Downloading pandas-2.0.1-cp310-cp310-manylinux_2_17_x86_64.manylinux2014_x86_64.whl (12.3 MB)\n",
            "\u001b[2K     \u001b[90m━━━━━━━━━━━━━━━━━━━━━━━━━━━━━━━━━━━━━━━━\u001b[0m \u001b[32m12.3/12.3 MB\u001b[0m \u001b[31m74.4 MB/s\u001b[0m eta \u001b[36m0:00:00\u001b[0m\n",
            "\u001b[?25hRequirement already satisfied: numpy in /usr/local/lib/python3.10/dist-packages (1.22.4)\n",
            "Collecting numpy\n",
            "  Downloading numpy-1.24.3-cp310-cp310-manylinux_2_17_x86_64.manylinux2014_x86_64.whl (17.3 MB)\n",
            "\u001b[2K     \u001b[90m━━━━━━━━━━━━━━━━━━━━━━━━━━━━━━━━━━━━━━━━\u001b[0m \u001b[32m17.3/17.3 MB\u001b[0m \u001b[31m67.3 MB/s\u001b[0m eta \u001b[36m0:00:00\u001b[0m\n",
            "\u001b[?25hRequirement already satisfied: scipy in /usr/local/lib/python3.10/dist-packages (1.10.1)\n",
            "Requirement already satisfied: scikit-learn in /usr/local/lib/python3.10/dist-packages (1.2.2)\n",
            "Requirement already satisfied: python-dateutil>=2.8.2 in /usr/local/lib/python3.10/dist-packages (from pandas) (2.8.2)\n",
            "Requirement already satisfied: pytz>=2020.1 in /usr/local/lib/python3.10/dist-packages (from pandas) (2022.7.1)\n",
            "Requirement already satisfied: tzdata>=2022.1 in /usr/local/lib/python3.10/dist-packages (from pandas) (2023.3)\n",
            "Requirement already satisfied: joblib>=1.1.1 in /usr/local/lib/python3.10/dist-packages (from scikit-learn) (1.2.0)\n",
            "Requirement already satisfied: threadpoolctl>=2.0.0 in /usr/local/lib/python3.10/dist-packages (from scikit-learn) (3.1.0)\n",
            "Requirement already satisfied: six>=1.5 in /usr/local/lib/python3.10/dist-packages (from python-dateutil>=2.8.2->pandas) (1.16.0)\n",
            "Installing collected packages: setuptools, numpy, pandas\n",
            "  Attempting uninstall: setuptools\n",
            "    Found existing installation: setuptools 67.7.2\n",
            "    Uninstalling setuptools-67.7.2:\n",
            "      Successfully uninstalled setuptools-67.7.2\n",
            "  Attempting uninstall: numpy\n",
            "    Found existing installation: numpy 1.22.4\n",
            "    Uninstalling numpy-1.22.4:\n",
            "      Successfully uninstalled numpy-1.22.4\n",
            "  Attempting uninstall: pandas\n",
            "    Found existing installation: pandas 1.5.3\n",
            "    Uninstalling pandas-1.5.3:\n",
            "      Successfully uninstalled pandas-1.5.3\n",
            "\u001b[31mERROR: pip's dependency resolver does not currently take into account all the packages that are installed. This behaviour is the source of the following dependency conflicts.\n",
            "ipython 7.34.0 requires jedi>=0.16, which is not installed.\n",
            "google-colab 1.0.0 requires pandas==1.5.3, but you have pandas 2.0.1 which is incompatible.\n",
            "numba 0.56.4 requires numpy<1.24,>=1.18, but you have numpy 1.24.3 which is incompatible.\n",
            "tensorflow 2.12.0 requires numpy<1.24,>=1.22, but you have numpy 1.24.3 which is incompatible.\u001b[0m\u001b[31m\n",
            "\u001b[0mSuccessfully installed numpy-1.24.3 pandas-2.0.1 setuptools-67.8.0\n"
          ]
        }
      ]
    },
    {
      "cell_type": "code",
      "source": [
        "%cd /content/drive/My\\ Drive/LightGBM/python-package\n",
        "!sudo python setup.py install"
      ],
      "metadata": {
        "colab": {
          "base_uri": "https://localhost:8080/"
        },
        "id": "XxEKTQNYKcoE",
        "outputId": "3a28a6cb-bd27-44c5-bb69-b93873a5e16d"
      },
      "id": "XxEKTQNYKcoE",
      "execution_count": null,
      "outputs": [
        {
          "output_type": "stream",
          "name": "stdout",
          "text": [
            "/content/drive/My Drive/LightGBM/python-package\n",
            "Traceback (most recent call last):\n",
            "  File \"/content/drive/My Drive/LightGBM/python-package/setup.py\", line 300, in <module>\n",
            "    version = _version_file.read_text(encoding='utf-8').strip()\n",
            "  File \"/usr/lib/python3.10/pathlib.py\", line 1134, in read_text\n",
            "    with self.open(mode='r', encoding=encoding, errors=errors) as f:\n",
            "  File \"/usr/lib/python3.10/pathlib.py\", line 1119, in open\n",
            "    return self._accessor.open(self, mode, buffering, encoding, errors,\n",
            "FileNotFoundError: [Errno 2] No such file or directory: '/content/drive/My Drive/LightGBM/python-package/lightgbm/VERSION.txt'\n"
          ]
        }
      ]
    },
    {
      "cell_type": "markdown",
      "id": "e891889d-6ed6-4218-85da-75cc0f9d516d",
      "metadata": {
        "id": "e891889d-6ed6-4218-85da-75cc0f9d516d"
      },
      "source": [
        "## 岭回归分类器"
      ]
    },
    {
      "cell_type": "code",
      "source": [
        "clf = RidgeClassifier()\n",
        "clf.fit(train_test_CV[:1400], df_balanced['label'].values[:1400])\n",
        "\n",
        "val_pred = clf.predict(train_test_CV[1400:])\n",
        "print(f1_score(df_balanced['label'].values[1400:], val_pred, average='macro'))"
      ],
      "metadata": {
        "colab": {
          "base_uri": "https://localhost:8080/"
        },
        "id": "vUctz_S5AgUM",
        "outputId": "2876d33d-7ebf-465b-8aab-e671a6069aca"
      },
      "id": "vUctz_S5AgUM",
      "execution_count": null,
      "outputs": [
        {
          "output_type": "stream",
          "name": "stdout",
          "text": [
            "0.03961584633853542\n"
          ]
        }
      ]
    },
    {
      "cell_type": "code",
      "execution_count": null,
      "id": "03adfc23-980c-462b-8c28-601bb2b7d707",
      "metadata": {
        "id": "03adfc23-980c-462b-8c28-601bb2b7d707",
        "outputId": "b3ebfd54-13f0-4ec6-e5e5-d7108ad8fef8",
        "colab": {
          "base_uri": "https://localhost:8080/"
        }
      },
      "outputs": [
        {
          "output_type": "stream",
          "name": "stdout",
          "text": [
            "0.0641573994867408\n"
          ]
        }
      ],
      "source": [
        "clf = RidgeClassifier()\n",
        "clf.fit(train_test_TF[:1400], df_balanced['label'].values[:1400])\n",
        "\n",
        "val_pred = clf.predict(train_test_TF[1400:])\n",
        "print(f1_score(train_df['label'].values[1400:], val_pred, average='macro'))"
      ]
    },
    {
      "cell_type": "markdown",
      "id": "e39fb998-4a2e-42ba-958a-3eafaf954e12",
      "metadata": {
        "id": "e39fb998-4a2e-42ba-958a-3eafaf954e12"
      },
      "source": [
        "## LightGBM"
      ]
    },
    {
      "cell_type": "code",
      "source": [
        "X_train, X_val, y_train, y_val = train_test_split(train_test_TF, df_balanced['label'].values, test_size=0.3, random_state=1234)"
      ],
      "metadata": {
        "id": "6MRMHaZzd43v"
      },
      "id": "6MRMHaZzd43v",
      "execution_count": null,
      "outputs": []
    },
    {
      "cell_type": "code",
      "execution_count": null,
      "id": "ef62a98a-37f0-4516-96e4-7f57e759cfdf",
      "metadata": {
        "colab": {
          "base_uri": "https://localhost:8080/",
          "height": 92
        },
        "id": "ef62a98a-37f0-4516-96e4-7f57e759cfdf",
        "outputId": "98c7387f-e4b9-4cc5-89bd-ebb0e0c7b4e4"
      },
      "outputs": [
        {
          "output_type": "execute_result",
          "data": {
            "text/plain": [
              "LGBMClassifier(colsample_bytree=0.8, max_depth=1, n_estimators=10,\n",
              "               num_leaves=50, objective='multiclass', subsample=0.8)"
            ],
            "text/html": [
              "<style>#sk-container-id-5 {color: black;background-color: white;}#sk-container-id-5 pre{padding: 0;}#sk-container-id-5 div.sk-toggleable {background-color: white;}#sk-container-id-5 label.sk-toggleable__label {cursor: pointer;display: block;width: 100%;margin-bottom: 0;padding: 0.3em;box-sizing: border-box;text-align: center;}#sk-container-id-5 label.sk-toggleable__label-arrow:before {content: \"▸\";float: left;margin-right: 0.25em;color: #696969;}#sk-container-id-5 label.sk-toggleable__label-arrow:hover:before {color: black;}#sk-container-id-5 div.sk-estimator:hover label.sk-toggleable__label-arrow:before {color: black;}#sk-container-id-5 div.sk-toggleable__content {max-height: 0;max-width: 0;overflow: hidden;text-align: left;background-color: #f0f8ff;}#sk-container-id-5 div.sk-toggleable__content pre {margin: 0.2em;color: black;border-radius: 0.25em;background-color: #f0f8ff;}#sk-container-id-5 input.sk-toggleable__control:checked~div.sk-toggleable__content {max-height: 200px;max-width: 100%;overflow: auto;}#sk-container-id-5 input.sk-toggleable__control:checked~label.sk-toggleable__label-arrow:before {content: \"▾\";}#sk-container-id-5 div.sk-estimator input.sk-toggleable__control:checked~label.sk-toggleable__label {background-color: #d4ebff;}#sk-container-id-5 div.sk-label input.sk-toggleable__control:checked~label.sk-toggleable__label {background-color: #d4ebff;}#sk-container-id-5 input.sk-hidden--visually {border: 0;clip: rect(1px 1px 1px 1px);clip: rect(1px, 1px, 1px, 1px);height: 1px;margin: -1px;overflow: hidden;padding: 0;position: absolute;width: 1px;}#sk-container-id-5 div.sk-estimator {font-family: monospace;background-color: #f0f8ff;border: 1px dotted black;border-radius: 0.25em;box-sizing: border-box;margin-bottom: 0.5em;}#sk-container-id-5 div.sk-estimator:hover {background-color: #d4ebff;}#sk-container-id-5 div.sk-parallel-item::after {content: \"\";width: 100%;border-bottom: 1px solid gray;flex-grow: 1;}#sk-container-id-5 div.sk-label:hover label.sk-toggleable__label {background-color: #d4ebff;}#sk-container-id-5 div.sk-serial::before {content: \"\";position: absolute;border-left: 1px solid gray;box-sizing: border-box;top: 0;bottom: 0;left: 50%;z-index: 0;}#sk-container-id-5 div.sk-serial {display: flex;flex-direction: column;align-items: center;background-color: white;padding-right: 0.2em;padding-left: 0.2em;position: relative;}#sk-container-id-5 div.sk-item {position: relative;z-index: 1;}#sk-container-id-5 div.sk-parallel {display: flex;align-items: stretch;justify-content: center;background-color: white;position: relative;}#sk-container-id-5 div.sk-item::before, #sk-container-id-5 div.sk-parallel-item::before {content: \"\";position: absolute;border-left: 1px solid gray;box-sizing: border-box;top: 0;bottom: 0;left: 50%;z-index: -1;}#sk-container-id-5 div.sk-parallel-item {display: flex;flex-direction: column;z-index: 1;position: relative;background-color: white;}#sk-container-id-5 div.sk-parallel-item:first-child::after {align-self: flex-end;width: 50%;}#sk-container-id-5 div.sk-parallel-item:last-child::after {align-self: flex-start;width: 50%;}#sk-container-id-5 div.sk-parallel-item:only-child::after {width: 0;}#sk-container-id-5 div.sk-dashed-wrapped {border: 1px dashed gray;margin: 0 0.4em 0.5em 0.4em;box-sizing: border-box;padding-bottom: 0.4em;background-color: white;}#sk-container-id-5 div.sk-label label {font-family: monospace;font-weight: bold;display: inline-block;line-height: 1.2em;}#sk-container-id-5 div.sk-label-container {text-align: center;}#sk-container-id-5 div.sk-container {/* jupyter's `normalize.less` sets `[hidden] { display: none; }` but bootstrap.min.css set `[hidden] { display: none !important; }` so we also need the `!important` here to be able to override the default hidden behavior on the sphinx rendered scikit-learn.org. See: https://github.com/scikit-learn/scikit-learn/issues/21755 */display: inline-block !important;position: relative;}#sk-container-id-5 div.sk-text-repr-fallback {display: none;}</style><div id=\"sk-container-id-5\" class=\"sk-top-container\"><div class=\"sk-text-repr-fallback\"><pre>LGBMClassifier(colsample_bytree=0.8, max_depth=1, n_estimators=10,\n",
              "               num_leaves=50, objective=&#x27;multiclass&#x27;, subsample=0.8)</pre><b>In a Jupyter environment, please rerun this cell to show the HTML representation or trust the notebook. <br />On GitHub, the HTML representation is unable to render, please try loading this page with nbviewer.org.</b></div><div class=\"sk-container\" hidden><div class=\"sk-item\"><div class=\"sk-estimator sk-toggleable\"><input class=\"sk-toggleable__control sk-hidden--visually\" id=\"sk-estimator-id-5\" type=\"checkbox\" checked><label for=\"sk-estimator-id-5\" class=\"sk-toggleable__label sk-toggleable__label-arrow\">LGBMClassifier</label><div class=\"sk-toggleable__content\"><pre>LGBMClassifier(colsample_bytree=0.8, max_depth=1, n_estimators=10,\n",
              "               num_leaves=50, objective=&#x27;multiclass&#x27;, subsample=0.8)</pre></div></div></div></div></div>"
            ]
          },
          "metadata": {},
          "execution_count": 38
        }
      ],
      "source": [
        "\n",
        "model = LGBMClassifier(\n",
        "    objective='multiclass',\n",
        "    num_leaves=50,\n",
        "    learning_rate=0.1, \n",
        "    n_estimators=10, \n",
        "    max_depth=1, \n",
        "    subsample = 0.8,\n",
        "    colsample_bytree = 0.8)\n",
        "\n",
        "model.fit(X_train,y_train)"
      ]
    },
    {
      "cell_type": "code",
      "source": [
        "# 获取模型的训练参数\n",
        "params = model.get_params()\n",
        "\n",
        "# 打印训练参数\n",
        "for param, value in params.items():\n",
        "    print(f\"{param}: {value}\")"
      ],
      "metadata": {
        "colab": {
          "base_uri": "https://localhost:8080/"
        },
        "id": "LAnI0Kb1ReFY",
        "outputId": "f5d1bf64-074e-4af0-8eba-909d0035da04"
      },
      "id": "LAnI0Kb1ReFY",
      "execution_count": null,
      "outputs": [
        {
          "output_type": "stream",
          "name": "stdout",
          "text": [
            "boosting_type: gbdt\n",
            "class_weight: None\n",
            "colsample_bytree: 0.8\n",
            "importance_type: split\n",
            "learning_rate: 0.1\n",
            "max_depth: 6\n",
            "min_child_samples: 20\n",
            "min_child_weight: 0.001\n",
            "min_split_gain: 0.0\n",
            "n_estimators: 43\n",
            "n_jobs: -1\n",
            "num_leaves: 50\n",
            "objective: multiclass\n",
            "random_state: None\n",
            "reg_alpha: 0.0\n",
            "reg_lambda: 0.0\n",
            "silent: warn\n",
            "subsample: 0.8\n",
            "subsample_for_bin: 200000\n",
            "subsample_freq: 0\n"
          ]
        }
      ]
    },
    {
      "cell_type": "code",
      "execution_count": null,
      "id": "2b214066-4ba6-4e91-857a-48fffc5c74ce",
      "metadata": {
        "colab": {
          "base_uri": "https://localhost:8080/"
        },
        "id": "2b214066-4ba6-4e91-857a-48fffc5c74ce",
        "outputId": "3d78ecf3-01d9-40d0-85e6-fc0f5f04941b"
      },
      "outputs": [
        {
          "output_type": "execute_result",
          "data": {
            "text/plain": [
              "array([11, 10,  7,  5,  1, 12,  6,  2,  5,  3,  8,  1,  6,  6, 12,  4,  9,\n",
              "        1,  6,  5,  5, 10, 12,  7,  8,  2, 10,  7,  9, 13,  1,  3,  7,  0,\n",
              "        3, 12,  6,  4, 10,  1,  7,  1,  0,  2, 12,  8,  6,  1,  3,  1, 11,\n",
              "        3, 13, 13, 12,  6,  4,  6,  0,  5,  9,  8,  9,  6,  9,  3, 12,  1,\n",
              "        0, 13, 10, 11,  5,  0,  2, 11, 11,  6,  2,  4,  1,  1,  2, 11,  0,\n",
              "        0,  2,  4,  4,  5,  8,  2,  8,  9,  5, 10,  5,  0,  9,  4,  8,  0,\n",
              "        8,  7,  4,  3,  1,  5, 13, 13, 11, 10,  3,  1, 12, 13,  9,  7,  9,\n",
              "        2,  2, 10,  1,  3,  4,  0,  4,  4, 10,  2, 12,  0, 12,  3,  8,  2,\n",
              "       12, 13,  7,  8, 13, 13,  5,  5,  3,  2, 11,  1,  1,  6,  7, 10,  5,\n",
              "        4, 11,  6, 13,  3, 11,  5,  0,  8, 13, 12, 11, 10,  2, 12,  0,  8,\n",
              "       13, 12,  3,  1, 11,  3,  8, 11,  5, 10, 11, 13, 11,  9,  1,  2,  0,\n",
              "        6,  3, 13, 11,  7, 11, 10, 10,  3,  3,  5,  9, 10, 11, 13,  4,  6,\n",
              "        2,  1, 11,  0,  0,  1,  4,  2, 11,  1,  1,  6,  1,  9,  2, 13,  7,\n",
              "        6,  1, 13,  7,  0,  0,  9,  4, 11,  9, 11, 12,  2,  4, 13,  1, 10,\n",
              "       10,  3,  9,  2,  0, 10, 12,  6,  9,  6,  2,  5,  4,  6,  7,  3,  2,\n",
              "        9,  4, 11,  5,  2,  7, 12,  6, 12,  2,  9, 12, 13,  0,  8,  8, 11,\n",
              "        7,  6,  5,  3, 12,  7,  7,  5, 10,  9,  5,  4, 12,  8,  2, 12,  5,\n",
              "        3,  8, 13, 13,  3,  8,  9,  4,  5, 13, 13, 10, 11, 10, 10,  1, 11,\n",
              "       10,  7,  4,  5,  1,  1, 13,  2, 10,  3,  8,  1,  8, 10,  1, 11,  4,\n",
              "        6,  5, 13, 12,  7,  5,  4, 12,  0,  4, 10,  4, 10,  8,  3,  6, 10,\n",
              "       12,  3,  7, 10,  9,  5,  5,  0,  2,  6,  8,  7,  3,  9,  3,  6,  0,\n",
              "       13, 13, 13, 12, 12,  4,  5, 11,  2, 12,  8,  7,  0,  9,  9,  2,  2,\n",
              "        5, 12, 13, 13,  8,  8,  8,  5,  4,  0, 10, 10,  1, 11, 11,  8, 10,\n",
              "       12,  6,  1,  2,  2,  5, 13,  1, 13, 12,  5,  0, 10,  0, 11, 10,  0,\n",
              "        5,  6,  4,  9,  3,  0,  3,  2,  4, 12, 12, 10,  2,  9,  9,  7, 13,\n",
              "       13, 12,  6, 11,  1,  9,  2,  5, 10, 10, 12,  5,  2,  6,  9, 12,  7,\n",
              "        9,  6,  3, 10,  0,  1,  6, 12,  5,  4,  9,  1,  2, 11,  4,  7, 10,\n",
              "       12,  5,  4,  1,  6,  7,  5,  0, 11, 10, 12,  6, 11,  2,  6,  0,  6,\n",
              "        6,  4,  2, 10,  7, 11, 12, 13,  2, 13,  0,  8, 13,  9,  0,  1,  7,\n",
              "        1, 13,  2,  8,  8,  8,  0, 12, 13,  4,  0,  7, 10,  4,  3, 10,  2,\n",
              "       10, 12,  2,  3,  3,  4,  5,  4,  4,  3, 13,  2,  1,  6,  9,  9, 12,\n",
              "       12, 12,  4,  5,  0, 13, 10, 13, 12,  7,  0,  0, 10,  9, 10,  4, 11,\n",
              "       13, 11,  2,  9,  3,  2,  9,  3,  3, 13,  2,  5, 13,  8,  5,  5, 13,\n",
              "       12,  9,  0, 12,  4,  6])"
            ]
          },
          "metadata": {},
          "execution_count": 39
        }
      ],
      "source": [
        "y_pred = model.predict(X_val)\n",
        "y_pred"
      ]
    },
    {
      "cell_type": "code",
      "execution_count": null,
      "id": "9c240bd6-3b89-4a65-897f-b27d24f41454",
      "metadata": {
        "colab": {
          "base_uri": "https://localhost:8080/"
        },
        "id": "9c240bd6-3b89-4a65-897f-b27d24f41454",
        "outputId": "f4779e6d-0911-4b5a-98fd-f09813fbf401"
      },
      "outputs": [
        {
          "output_type": "stream",
          "name": "stdout",
          "text": [
            "F1 score (macro): 0.7500005661012473\n"
          ]
        }
      ],
      "source": [
        "f1_macro = f1_score(y_val, y_pred, average='macro')\n",
        "print(f\"F1 score (macro): {f1_macro}\")"
      ]
    },
    {
      "cell_type": "code",
      "source": [
        "model_lgb = lgb.LGBMClassifier(\n",
        "    objective='multiclass',\n",
        "    num_leaves=50,\n",
        "    learning_rate=0.1, \n",
        "    n_estimators=43, \n",
        "    max_depth=6,\n",
        "    num_class=14, \n",
        "    subsample = 0.8,\n",
        "    colsample_bytree = 0.8\n",
        "    )\n",
        "\n",
        "\n",
        "params_test0={    \n",
        "\t\t\t'n_estimators':[30, 50, 70, 90, 110, 130],\n",
        "\t\t\t}\n",
        "\n",
        "gsearch0 = GridSearchCV(model_lgb,params_test0,scoring='f1_macro',cv=5,\n",
        "\t\t\t\t\t\tverbose=1, \n",
        "\t\t\t\t\t\tn_jobs=-1)\n",
        "\n",
        "gsearch0.fit(X_train,y_train)\n",
        "print(gsearch0.best_params_,gsearch0.best_score_)\n",
        "\n",
        "#{'n_estimators': 110} 0.8613052977470691\n",
        "#{'n_estimators': 100} 0.8628364756638612"
      ],
      "metadata": {
        "colab": {
          "base_uri": "https://localhost:8080/"
        },
        "id": "nzMsKwgzMlc0",
        "outputId": "fe54b77c-cedf-41bd-c0a1-16a30b29f860"
      },
      "id": "nzMsKwgzMlc0",
      "execution_count": null,
      "outputs": [
        {
          "output_type": "stream",
          "name": "stdout",
          "text": [
            "Fitting 5 folds for each of 3 candidates, totalling 15 fits\n",
            "{'n_estimators': 100} 0.8628364756638612\n"
          ]
        }
      ]
    },
    {
      "cell_type": "code",
      "source": [
        "model_lgb = lgb.LGBMClassifier(\n",
        "    objective='multiclass',\n",
        "    num_leaves=50,\n",
        "    learning_rate=0.1, \n",
        "    n_estimators=100, \n",
        "    max_depth=6,\n",
        "    num_class=14, \n",
        "    subsample = 0.8,\n",
        "    colsample_bytree = 0.8\n",
        "    )\n",
        "\n",
        "\n",
        "params_test1={    \n",
        "      'num_leaves':[10, 20, 60, 100],\n",
        "      'max_depth':[3, 5, 7]\n",
        "\t\t\t}\n",
        "\n",
        "gsearch1 = GridSearchCV(model_lgb,params_test1,scoring='f1_macro',cv=5,\n",
        "\t\t\t\t\t\tverbose=1, \n",
        "\t\t\t\t\t\tn_jobs=-1)\n",
        "\n",
        "gsearch1.fit(X_train,y_train)\n",
        "print(gsearch1.best_params_,gsearch1.best_score_)\n",
        "\n",
        "#{'max_depth': 5, 'num_leaves': 20} 0.8596734952978903\n",
        "#{'max_depth': 6, 'num_leaves': 30} 0.8628364756638612\n",
        "#{'max_depth': 6, 'num_leaves': 32} 0.8628364756638612\n",
        "#{'max_depth': 6, 'num_leaves': 36} 0.8628364756638612\n",
        "#{'max_depth': 6, 'num_leaves': 29} 0.8643279079068611"
      ],
      "metadata": {
        "colab": {
          "base_uri": "https://localhost:8080/"
        },
        "id": "feI72WIpUhW4",
        "outputId": "73946549-d255-4574-ca05-58d2a2286de4"
      },
      "id": "feI72WIpUhW4",
      "execution_count": null,
      "outputs": [
        {
          "output_type": "stream",
          "name": "stdout",
          "text": [
            "Fitting 5 folds for each of 1 candidates, totalling 5 fits\n",
            "{'max_depth': 6, 'num_leaves': 29} 0.8643279079068611\n"
          ]
        }
      ]
    },
    {
      "cell_type": "code",
      "source": [
        "model_lgb = lgb.LGBMClassifier(\n",
        "    objective='multiclass',\n",
        "    num_leaves=29,\n",
        "    learning_rate=0.1, \n",
        "    n_estimators=100, \n",
        "    max_depth=6,\n",
        "    num_class=14, \n",
        "    subsample = 0.8,\n",
        "    colsample_bytree = 0.8\n",
        "    )\n",
        "\n",
        "\n",
        "params_test2={\n",
        "    'min_child_weight':[0.001, 0],\n",
        "    'min_child_samples':[19, 20, 21]\n",
        "\t\t\t}\n",
        "\n",
        "gsearch2 = GridSearchCV(model_lgb,params_test2,scoring='f1_macro',cv=5,\n",
        "\t\t\t\t\t\tverbose=1, \n",
        "\t\t\t\t\t\tn_jobs=-1)\n",
        "\n",
        "gsearch2.fit(X_train,y_train)\n",
        "print(gsearch2.best_params_,gsearch2.best_score_)\n",
        "\n",
        "#{'min_child_samples': 20, 'min_child_weight': 0.001} 0.8643279079068611"
      ],
      "metadata": {
        "colab": {
          "base_uri": "https://localhost:8080/"
        },
        "id": "SOlA2J_udcLC",
        "outputId": "43e935fa-3b42-4411-b8ba-d1e91a6dc580"
      },
      "id": "SOlA2J_udcLC",
      "execution_count": null,
      "outputs": [
        {
          "output_type": "stream",
          "name": "stdout",
          "text": [
            "Fitting 5 folds for each of 6 candidates, totalling 30 fits\n"
          ]
        },
        {
          "output_type": "stream",
          "name": "stderr",
          "text": [
            "/usr/local/lib/python3.10/dist-packages/sklearn/model_selection/_validation.py:378: FitFailedWarning: \n",
            "3 fits failed out of a total of 30.\n",
            "The score on these train-test partitions for these parameters will be set to nan.\n",
            "If these failures are not expected, you can try to debug them by setting error_score='raise'.\n",
            "\n",
            "Below are more details about the failures:\n",
            "--------------------------------------------------------------------------------\n",
            "3 fits failed with the following error:\n",
            "Traceback (most recent call last):\n",
            "  File \"/usr/local/lib/python3.10/dist-packages/sklearn/model_selection/_validation.py\", line 686, in _fit_and_score\n",
            "    estimator.fit(X_train, y_train, **fit_params)\n",
            "  File \"/usr/local/lib/python3.10/dist-packages/lightgbm/sklearn.py\", line 967, in fit\n",
            "    super().fit(X, _y, sample_weight=sample_weight, init_score=init_score, eval_set=valid_sets,\n",
            "  File \"/usr/local/lib/python3.10/dist-packages/lightgbm/sklearn.py\", line 748, in fit\n",
            "    self._Booster = train(\n",
            "  File \"/usr/local/lib/python3.10/dist-packages/lightgbm/engine.py\", line 292, in train\n",
            "    booster.update(fobj=fobj)\n",
            "  File \"/usr/local/lib/python3.10/dist-packages/lightgbm/basic.py\", line 3021, in update\n",
            "    _safe_call(_LIB.LGBM_BoosterUpdateOneIter(\n",
            "  File \"/usr/local/lib/python3.10/dist-packages/lightgbm/basic.py\", line 125, in _safe_call\n",
            "    raise LightGBMError(_LIB.LGBM_GetLastError().decode('utf-8'))\n",
            "lightgbm.basic.LightGBMError: Check failed: (best_split_info.left_count) > (0) at /__w/1/s/python-package/compile/src/treelearner/serial_tree_learner.cpp, line 653 .\n",
            "\n",
            "\n",
            "  warnings.warn(some_fits_failed_message, FitFailedWarning)\n",
            "/usr/local/lib/python3.10/dist-packages/sklearn/model_selection/_search.py:952: UserWarning: One or more of the test scores are non-finite: [0.86115542        nan 0.86432791        nan 0.85436276 0.85777502]\n",
            "  warnings.warn(\n"
          ]
        },
        {
          "output_type": "stream",
          "name": "stdout",
          "text": [
            "{'min_child_samples': 20, 'min_child_weight': 0.001} 0.8643279079068611\n"
          ]
        }
      ]
    },
    {
      "cell_type": "code",
      "source": [
        "model_lgb = lgb.LGBMClassifier(\n",
        "    objective='multiclass',\n",
        "    num_leaves=29,\n",
        "    learning_rate=0.1, \n",
        "    n_estimators=100, \n",
        "    max_depth=6,\n",
        "    num_class=14, \n",
        "    subsample = 0.8,\n",
        "    colsample_bytree = 0.8,\n",
        "    min_child_samples = 20,\n",
        "    min_child_weight = 0.01\n",
        "    )\n",
        "\n",
        "\n",
        "params_test3={    \n",
        "      'colsample_bytree':[0.78, 0.76, 0.8, 0.82, 0.84]\n",
        "\t\t\t}\n",
        "\n",
        "gsearch3 = GridSearchCV(model_lgb,params_test3,scoring='f1_macro',cv=5,\n",
        "\t\t\t\t\t\tverbose=1, \n",
        "\t\t\t\t\t\tn_jobs=-1)\n",
        "\n",
        "gsearch3.fit(X_train,y_train)\n",
        "print(gsearch3.best_params_,gsearch3.best_score_)\n",
        "\n",
        "#{'colsample_bytree': 0.8, 'subsample': 0.8} 0.8564652411705895\n",
        "#{'colsample_bytree': 0.8} 0.8564652411705895"
      ],
      "metadata": {
        "colab": {
          "base_uri": "https://localhost:8080/"
        },
        "id": "xdr0VbZFJdj_",
        "outputId": "09bb5f06-4f9c-43d2-e702-259d76ee5b3e"
      },
      "id": "xdr0VbZFJdj_",
      "execution_count": null,
      "outputs": [
        {
          "output_type": "stream",
          "name": "stdout",
          "text": [
            "Fitting 5 folds for each of 5 candidates, totalling 25 fits\n",
            "{'colsample_bytree': 0.8} 0.8564652411705895\n"
          ]
        }
      ]
    },
    {
      "cell_type": "code",
      "source": [
        "model_lgb = lgb.LGBMClassifier(\n",
        "    objective='multiclass',\n",
        "    num_leaves=29,\n",
        "    learning_rate=0.1, \n",
        "    n_estimators=100, \n",
        "    max_depth=6,\n",
        "    num_class=14, \n",
        "    subsample = 0.8,\n",
        "    colsample_bytree = 0.8,\n",
        "    min_child_samples = 20,\n",
        "    min_child_weight = 0.01\n",
        "    )\n",
        "\n",
        "\n",
        "params_test4={    \n",
        "      'reg_alpha':[0.001, 0.005]\n",
        "\t\t\t}\n",
        "\n",
        "gsearch4 = GridSearchCV(model_lgb,params_test4,scoring='f1_macro',cv=5,\n",
        "\t\t\t\t\t\tverbose=1, \n",
        "\t\t\t\t\t\tn_jobs=-1)\n",
        "\n",
        "gsearch4.fit(X_train,y_train)\n",
        "print(gsearch4.best_params_,gsearch4.best_score_)\n",
        "\n",
        "#{'reg_alpha': 0.001, 'reg_lambda': 0} 0.8608563142312239"
      ],
      "metadata": {
        "colab": {
          "base_uri": "https://localhost:8080/"
        },
        "id": "A3YL1bfyec1O",
        "outputId": "efa85514-d676-4be8-a8af-e7860f82edd9"
      },
      "id": "A3YL1bfyec1O",
      "execution_count": null,
      "outputs": [
        {
          "output_type": "stream",
          "name": "stdout",
          "text": [
            "Fitting 5 folds for each of 2 candidates, totalling 10 fits\n",
            "{'reg_alpha': 0.001} 0.8608563142312239\n"
          ]
        }
      ]
    },
    {
      "cell_type": "code",
      "source": [
        "model_lgb = lgb.LGBMClassifier(\n",
        "    objective='multiclass',\n",
        "    num_leaves=29,\n",
        "    learning_rate=0.005, \n",
        "    n_estimators=100, \n",
        "    max_depth=6,\n",
        "    num_class=14, \n",
        "    subsample = 0.8,\n",
        "    colsample_bytree = 0.8,\n",
        "    min_child_samples = 20,\n",
        "    min_child_weight = 0.01,\n",
        "    reg_alpha = 0.001,\n",
        "    reg_lambda = 0\n",
        "    )\n",
        "\n",
        "\n",
        "params_test4={    \n",
        "      'n_estimators':[200, 250, 300],\n",
        "\t\t\t}\n",
        "\n",
        "gsearch4 = GridSearchCV(model_lgb,params_test4,scoring='f1_macro',cv=5,\n",
        "\t\t\t\t\t\tverbose=1, \n",
        "\t\t\t\t\t\tn_jobs=-1)\n",
        "\n",
        "gsearch4.fit(X_train,y_train)\n",
        "print(gsearch4.best_params_,gsearch4.best_score_)"
      ],
      "metadata": {
        "colab": {
          "base_uri": "https://localhost:8080/"
        },
        "id": "RFmm1Mttm04R",
        "outputId": "0a595ad7-9bbf-4632-ca05-d0b63f09ad35"
      },
      "id": "RFmm1Mttm04R",
      "execution_count": null,
      "outputs": [
        {
          "output_type": "stream",
          "name": "stdout",
          "text": [
            "Fitting 5 folds for each of 3 candidates, totalling 15 fits\n",
            "{'n_estimators': 300} 0.8162780749214585\n"
          ]
        }
      ]
    },
    {
      "cell_type": "code",
      "execution_count": null,
      "id": "268592bb-9027-45ad-ac05-e41e5c0f6718",
      "metadata": {
        "colab": {
          "base_uri": "https://localhost:8080/"
        },
        "id": "268592bb-9027-45ad-ac05-e41e5c0f6718",
        "outputId": "70382b58-c91e-4cb2-ff7d-1ac7fcde6fbe"
      },
      "outputs": [
        {
          "output_type": "stream",
          "name": "stdout",
          "text": [
            "F1 final score (macro): 0.8745926574518142\n"
          ]
        }
      ],
      "source": [
        "best_params = {\n",
        "    'num_leaves':29,\n",
        "    'objective':'multiclass',\n",
        "    'learning_rate':0.01,  \n",
        "    'n_estimators':2000, \n",
        "    'max_depth':6,\n",
        "    'num_class':14,\n",
        "    'subsample':0.8,\n",
        "    'colsample_bytree':0.8,\n",
        "    'min_child_samples':20,\n",
        "    'min_child_weight':0.01,\n",
        "    'reg_alpha':0.001,\n",
        "    'reg_lambda':0\n",
        "\n",
        "}\n",
        "\n",
        "final_model = LGBMClassifier(**best_params)\n",
        "final_model.fit(X_train, y_train)\n",
        "y_final_pred = final_model.predict(X_val)\n",
        "f1_final_macro = f1_score(y_val, y_final_pred, average='macro')\n",
        "print(f\"F1 final score (macro): {f1_final_macro}\")"
      ]
    },
    {
      "cell_type": "markdown",
      "id": "8c5c0854-799c-4237-aea6-2fd7b8523bd6",
      "metadata": {
        "id": "8c5c0854-799c-4237-aea6-2fd7b8523bd6"
      },
      "source": [
        "# **深度学习文本分类**"
      ]
    },
    {
      "cell_type": "markdown",
      "id": "10edb17b-4f95-4eec-b7d7-21773f399bfa",
      "metadata": {
        "id": "10edb17b-4f95-4eec-b7d7-21773f399bfa"
      },
      "source": [
        "## TextCNN"
      ]
    },
    {
      "cell_type": "code",
      "execution_count": null,
      "id": "adeba148-0b54-46da-9c42-087988d88f03",
      "metadata": {
        "id": "adeba148-0b54-46da-9c42-087988d88f03",
        "outputId": "9e60a8f5-ae3e-41b8-ee78-17effa03d13f"
      },
      "outputs": [
        {
          "name": "stderr",
          "output_type": "stream",
          "text": [
            "C:\\Users\\Liuzx\\AppData\\Local\\Temp\\ipykernel_4920\\1786333247.py:34: UserWarning: Creating a tensor from a list of numpy.ndarrays is extremely slow. Please consider converting the list to a single numpy.ndarray with numpy.array() before converting to a tensor. (Triggered internally at  C:\\b\\abs_bao0hdcrdh\\croot\\pytorch_1675190257512\\work\\torch\\csrc\\utils\\tensor_new.cpp:204.)\n",
            "  input_batch = Variable(torch.LongTensor(inputs))\n"
          ]
        },
        {
          "name": "stdout",
          "output_type": "stream",
          "text": [
            "Epoch: 1000 cost = 0.577819\n",
            "Epoch: 2000 cost = 0.328822\n",
            "Epoch: 3000 cost = 0.115446\n",
            "Epoch: 4000 cost = 0.024982\n",
            "Epoch: 5000 cost = 0.029934\n",
            "sorry hate you is Bad Mean...\n"
          ]
        }
      ],
      "source": [
        "import tensorflow as tf\n",
        "import pandas as pd\n",
        "import matplotlib.pyplot as plt\n",
        "from tensorflow.keras import layers\n",
        "from sklearn.model_selection import train_test_split\n",
        "from collections import Counter \n",
        "from gensim.models import Word2Vec\n",
        "import numpy as np\n",
        "from sklearn import preprocessing\n",
        "from sklearn.metrics import precision_score, accuracy_score,recall_score, f1_score,roc_auc_score, precision_recall_fscore_support, roc_curve, classification_report"
      ]
    },
    {
      "cell_type": "code",
      "source": [
        "w2v = Word2Vec(sentences=X_train,size=300,window=5,min_count=5,sample=1e-3,sg=1)\n",
        "w2v.save(\"bag\")"
      ],
      "metadata": {
        "id": "FD3ZJd1AnQ6w"
      },
      "id": "FD3ZJd1AnQ6w",
      "execution_count": null,
      "outputs": []
    },
    {
      "cell_type": "code",
      "source": [
        "# w2v = Word2Vec.load(\"bag\") 第一次训练完成后，后续只需使用加载本地模型即可\n",
        "def average(text,size=300):\n",
        "    if len(text) < 1:\n",
        "        return np.zeros(size)\n",
        "    a = [w2v.wv[w] if w in w2v.wv else np.zeros(size) for w in text]\n",
        "    length = len(a)\n",
        "    summed = np.sum(a,axis=0)\n",
        "    ave = np.divide(summed,length)\n",
        "    return ave\n",
        "X = X_train.apply(average)\n",
        "list_corpus = X.tolist()"
      ],
      "metadata": {
        "id": "xpiItsEXnX0g"
      },
      "id": "xpiItsEXnX0g",
      "execution_count": null,
      "outputs": []
    },
    {
      "cell_type": "code",
      "source": [
        "x_train_cnn,x_test_cnn,y_train_cnn,y_test_cnn = train_test_split(list_corpus,y_train,test_size=0.3,random_state=1234)"
      ],
      "metadata": {
        "id": "MjmUgIEUo8Jz"
      },
      "id": "MjmUgIEUo8Jz",
      "execution_count": null,
      "outputs": []
    },
    {
      "cell_type": "code",
      "source": [
        "x_train_cnn=pd.DataFrame(x_train_cnn)\n",
        "x_test_cnn=pd.DataFrame(x_test_cnn)\n",
        "x_train_cnn=x_train_cnn.values.reshape(x_train_cnn.shape[0],x_train_cnn.shape[1],1)\n",
        "x_test_cnn=x_test_cnn.values.reshape(x_test_cnn.shape[0],x_test_cnn.shape[1],1)\n",
        "y_train_cnn=np.array(y_train_cnn)\n",
        "y_test_cnn=np.array(y_test_cnn)"
      ],
      "metadata": {
        "id": "_3KrL32YpVjN"
      },
      "id": "_3KrL32YpVjN",
      "execution_count": null,
      "outputs": []
    },
    {
      "cell_type": "code",
      "source": [
        "x_train_cnn.shape,y_train_cnn.shape,x_test_cnn.shape,y_test_cnn.shape"
      ],
      "metadata": {
        "id": "J7ub-ZdPpnBX"
      },
      "id": "J7ub-ZdPpnBX",
      "execution_count": null,
      "outputs": []
    },
    {
      "cell_type": "code",
      "source": [
        "num_classes=14\n",
        "cnn=tf.keras.Sequential([tf.keras.layers.Conv1D(input_shape=x_train_cnn.shape[1:],filters=32,kernel_size=5,strides=1,\n",
        "                                                padding='same',activation='relu',name='conv1'),\n",
        "                           tf.keras.layers.MaxPool1D(pool_size=5,strides=2,name='pool1'),\n",
        "                           tf.keras.layers.Conv1D(filters=64,kernel_size=5,strides=1,\n",
        "                                                  padding='same',activation='relu',name='conv2'),\n",
        "                           tf.keras.layers.MaxPool1D(pool_size=5,strides=2,name='pool2'),                           \n",
        "                           tf.keras.layers.Conv1D(filters=128,kernel_size=5,strides=1,\n",
        "                                                  padding='same',activation='relu',name='conv3'),\n",
        "                           tf.keras.layers.MaxPool1D(pool_size=5,strides=2,name='pool3'),\n",
        "                           tf.keras.layers.Flatten(),\n",
        "                           tf.keras.layers.Dense(128,activation='relu',name='fc1'),\n",
        "                           tf.keras.layers.Dense(64,activation='relu',name='fc2'),\n",
        "                           tf.keras.layers.Dropout(0.5),\n",
        "                           tf.keras.layers.Dense(32,activation='relu',name='fc3'),                        \n",
        "                           tf.keras.layers.Dense(num_classes,activation='softmax',name='output')])\n",
        "nadam = tf.keras.optimizers.Nadam(lr=1e-3)\n",
        "cnn.compile(optimizer=nadam,loss='categorical_crossentropy',metrics=['categorical_accuracy']) #设置优化器和损失函数\n",
        "cnn.summary()"
      ],
      "metadata": {
        "id": "7eoGVHoVp0Hu"
      },
      "id": "7eoGVHoVp0Hu",
      "execution_count": null,
      "outputs": []
    },
    {
      "cell_type": "code",
      "source": [
        "history=cnn.fit(x_train_cnn,y_train_cnn,epochs=100,verbose=1)"
      ],
      "metadata": {
        "id": "wmQX9N-ZqSz3"
      },
      "id": "wmQX9N-ZqSz3",
      "execution_count": null,
      "outputs": []
    },
    {
      "cell_type": "code",
      "source": [
        "plt.plot(history.history['loss'])\n",
        "plt.legend(['training'], loc='upper left')\n",
        "plt.show()"
      ],
      "metadata": {
        "id": "uxJW7r-qqVgY"
      },
      "id": "uxJW7r-qqVgY",
      "execution_count": null,
      "outputs": []
    },
    {
      "cell_type": "code",
      "source": [
        "predict_prop=cnn.predict(x_test_cnn)\n",
        "predict_prop.shape"
      ],
      "metadata": {
        "id": "Mvz4UdZlqmP8"
      },
      "id": "Mvz4UdZlqmP8",
      "execution_count": null,
      "outputs": []
    },
    {
      "cell_type": "markdown",
      "source": [
        "## LSTM"
      ],
      "metadata": {
        "id": "GzY2SI8-TpA9"
      },
      "id": "GzY2SI8-TpA9"
    },
    {
      "cell_type": "code",
      "source": [
        "import torch\n",
        "import torch.nn as nn\n",
        "import torch.optim as optim\n",
        "from torch.utils.data import Dataset, DataLoader"
      ],
      "metadata": {
        "id": "AVormF-bUDsd"
      },
      "id": "AVormF-bUDsd",
      "execution_count": null,
      "outputs": []
    },
    {
      "cell_type": "code",
      "source": [
        "train_test_LSTM = X_train.toarray()  # 将稀疏矩阵转换为稠密矩阵"
      ],
      "metadata": {
        "id": "_GxS3sZ7Tqh9"
      },
      "id": "_GxS3sZ7Tqh9",
      "execution_count": null,
      "outputs": []
    },
    {
      "cell_type": "code",
      "source": [
        "# 确保Colab使用GPU\n",
        "device = torch.device('cuda' if torch.cuda.is_available() else 'cpu')"
      ],
      "metadata": {
        "id": "05ilAaMXVcSu"
      },
      "id": "05ilAaMXVcSu",
      "execution_count": null,
      "outputs": []
    },
    {
      "cell_type": "code",
      "source": [
        "class CustomDataset(Dataset):\n",
        "    def __init__(self, text_data, labels):\n",
        "        self.text_data = text_data\n",
        "        self.labels = labels\n",
        "        self.length = len(self.text_data)\n",
        "        \n",
        "    def __len__(self):\n",
        "        return self.length\n",
        "    \n",
        "    def __getitem__(self, index):\n",
        "        text = self.text_data[index]\n",
        "        label = self.labels[index]\n",
        "        return text, label"
      ],
      "metadata": {
        "id": "jbSLj2xeUISH"
      },
      "id": "jbSLj2xeUISH",
      "execution_count": null,
      "outputs": []
    },
    {
      "cell_type": "code",
      "source": [
        "class LSTMModel(nn.Module):\n",
        "    def __init__(self, input_size, hidden_size, num_layers, num_classes):\n",
        "        super(LSTMModel, self).__init__()\n",
        "        self.hidden_size = hidden_size\n",
        "        self.num_layers = num_layers\n",
        "        \n",
        "        self.lstm = nn.LSTM(input_size, hidden_size, num_layers, batch_first=True)\n",
        "        self.fc = nn.Linear(hidden_size, num_classes)\n",
        "    \n",
        "    def forward(self, x):\n",
        "        # 初始化LSTM的隐藏状态和记忆单元状态\n",
        "        # 初始化LSTM的隐藏状态和记忆单元状态\n",
        "        h0 = torch.zeros(self.num_layers * 1, x.size(0), self.hidden_size).to(device)\n",
        "        c0 = torch.zeros(self.num_layers * 1, x.size(0), self.hidden_size).to(device)\n",
        "\n",
        "        \n",
        "        # 前向传播\n",
        "        out, _ = self.lstm(x, (h0, c0))\n",
        "        \n",
        "        # 获取最后一个时间步的输出\n",
        "        out = self.fc(out[:, -1, :])\n",
        "        return out\n",
        "\n",
        "# 设置超参数\n",
        "input_size = 1000  # 输入大小为TF-IDF特征数量\n",
        "hidden_size = 128  # 隐藏层大小\n",
        "num_layers = 2  # LSTM层数\n",
        "num_classes = 14  # 类别数量\n",
        "\n",
        "# 创建LSTM模型实例\n",
        "# 创建模型实例并将其移至GPU\n",
        "model = LSTMModel(input_size, hidden_size, num_layers, num_classes).to(device)\n",
        "\n",
        "# 定义损失函数和优化器\n",
        "criterion = nn.CrossEntropyLoss()\n",
        "optimizer = torch.optim.Adam(model.parameters(), lr=0.001)\n",
        "\n",
        "# 将训练数据和标签移至GPU\n",
        "train_data = train_data.to(device)\n",
        "train_labels = train_labels.to(device)\n",
        "\n",
        "# 在GPU上训练模型\n",
        "for epoch in range(num_epochs):\n",
        "    # 前向传播\n",
        "    outputs = model(train_data)\n",
        "    loss = criterion(outputs, train_labels)\n",
        "    \n",
        "    # 反向传播和优化\n",
        "    optimizer.zero_grad()\n",
        "    loss.backward()\n",
        "    optimizer.step()\n",
        "    \n",
        "    # 输出训练信息\n",
        "    if (epoch+1) % 10 == 0:\n",
        "      print(f'Epoch [{epoch+1}/{num_epochs}], Loss: {loss.item():.4f}')\n",
        "\n",
        "# 打印模型结构\n",
        "print(model)"
      ],
      "metadata": {
        "colab": {
          "base_uri": "https://localhost:8080/",
          "height": 398
        },
        "id": "lcFjcu48UMmw",
        "outputId": "642963ae-53be-4d16-fb57-30c44f728a86"
      },
      "id": "lcFjcu48UMmw",
      "execution_count": null,
      "outputs": [
        {
          "output_type": "error",
          "ename": "AssertionError",
          "evalue": "ignored",
          "traceback": [
            "\u001b[0;31m---------------------------------------------------------------------------\u001b[0m",
            "\u001b[0;31mAssertionError\u001b[0m                            Traceback (most recent call last)",
            "\u001b[0;32m<ipython-input-33-3ba325133be6>\u001b[0m in \u001b[0;36m<cell line: 43>\u001b[0;34m()\u001b[0m\n\u001b[1;32m     43\u001b[0m \u001b[0;32mfor\u001b[0m \u001b[0mepoch\u001b[0m \u001b[0;32min\u001b[0m \u001b[0mrange\u001b[0m\u001b[0;34m(\u001b[0m\u001b[0mnum_epochs\u001b[0m\u001b[0;34m)\u001b[0m\u001b[0;34m:\u001b[0m\u001b[0;34m\u001b[0m\u001b[0;34m\u001b[0m\u001b[0m\n\u001b[1;32m     44\u001b[0m     \u001b[0;31m# 前向传播\u001b[0m\u001b[0;34m\u001b[0m\u001b[0;34m\u001b[0m\u001b[0m\n\u001b[0;32m---> 45\u001b[0;31m     \u001b[0moutputs\u001b[0m \u001b[0;34m=\u001b[0m \u001b[0mmodel\u001b[0m\u001b[0;34m(\u001b[0m\u001b[0mtrain_data\u001b[0m\u001b[0;34m)\u001b[0m\u001b[0;34m\u001b[0m\u001b[0;34m\u001b[0m\u001b[0m\n\u001b[0m\u001b[1;32m     46\u001b[0m     \u001b[0mloss\u001b[0m \u001b[0;34m=\u001b[0m \u001b[0mcriterion\u001b[0m\u001b[0;34m(\u001b[0m\u001b[0moutputs\u001b[0m\u001b[0;34m,\u001b[0m \u001b[0mtrain_labels\u001b[0m\u001b[0;34m)\u001b[0m\u001b[0;34m\u001b[0m\u001b[0;34m\u001b[0m\u001b[0m\n\u001b[1;32m     47\u001b[0m \u001b[0;34m\u001b[0m\u001b[0m\n",
            "\u001b[0;32m/usr/local/lib/python3.10/dist-packages/torch/nn/modules/module.py\u001b[0m in \u001b[0;36m_call_impl\u001b[0;34m(self, *args, **kwargs)\u001b[0m\n\u001b[1;32m   1499\u001b[0m                 \u001b[0;32mor\u001b[0m \u001b[0m_global_backward_pre_hooks\u001b[0m \u001b[0;32mor\u001b[0m \u001b[0m_global_backward_hooks\u001b[0m\u001b[0;34m\u001b[0m\u001b[0;34m\u001b[0m\u001b[0m\n\u001b[1;32m   1500\u001b[0m                 or _global_forward_hooks or _global_forward_pre_hooks):\n\u001b[0;32m-> 1501\u001b[0;31m             \u001b[0;32mreturn\u001b[0m \u001b[0mforward_call\u001b[0m\u001b[0;34m(\u001b[0m\u001b[0;34m*\u001b[0m\u001b[0margs\u001b[0m\u001b[0;34m,\u001b[0m \u001b[0;34m**\u001b[0m\u001b[0mkwargs\u001b[0m\u001b[0;34m)\u001b[0m\u001b[0;34m\u001b[0m\u001b[0;34m\u001b[0m\u001b[0m\n\u001b[0m\u001b[1;32m   1502\u001b[0m         \u001b[0;31m# Do not call functions when jit is used\u001b[0m\u001b[0;34m\u001b[0m\u001b[0;34m\u001b[0m\u001b[0m\n\u001b[1;32m   1503\u001b[0m         \u001b[0mfull_backward_hooks\u001b[0m\u001b[0;34m,\u001b[0m \u001b[0mnon_full_backward_hooks\u001b[0m \u001b[0;34m=\u001b[0m \u001b[0;34m[\u001b[0m\u001b[0;34m]\u001b[0m\u001b[0;34m,\u001b[0m \u001b[0;34m[\u001b[0m\u001b[0;34m]\u001b[0m\u001b[0;34m\u001b[0m\u001b[0;34m\u001b[0m\u001b[0m\n",
            "\u001b[0;32m<ipython-input-33-3ba325133be6>\u001b[0m in \u001b[0;36mforward\u001b[0;34m(self, x)\u001b[0m\n\u001b[1;32m     16\u001b[0m \u001b[0;34m\u001b[0m\u001b[0m\n\u001b[1;32m     17\u001b[0m         \u001b[0;31m# 前向传播\u001b[0m\u001b[0;34m\u001b[0m\u001b[0;34m\u001b[0m\u001b[0m\n\u001b[0;32m---> 18\u001b[0;31m         \u001b[0mout\u001b[0m\u001b[0;34m,\u001b[0m \u001b[0m_\u001b[0m \u001b[0;34m=\u001b[0m \u001b[0mself\u001b[0m\u001b[0;34m.\u001b[0m\u001b[0mlstm\u001b[0m\u001b[0;34m(\u001b[0m\u001b[0mx\u001b[0m\u001b[0;34m,\u001b[0m \u001b[0;34m(\u001b[0m\u001b[0mh0\u001b[0m\u001b[0;34m,\u001b[0m \u001b[0mc0\u001b[0m\u001b[0;34m)\u001b[0m\u001b[0;34m)\u001b[0m\u001b[0;34m\u001b[0m\u001b[0;34m\u001b[0m\u001b[0m\n\u001b[0m\u001b[1;32m     19\u001b[0m \u001b[0;34m\u001b[0m\u001b[0m\n\u001b[1;32m     20\u001b[0m         \u001b[0;31m# 获取最后一个时间步的输出\u001b[0m\u001b[0;34m\u001b[0m\u001b[0;34m\u001b[0m\u001b[0m\n",
            "\u001b[0;32m/usr/local/lib/python3.10/dist-packages/torch/nn/modules/module.py\u001b[0m in \u001b[0;36m_call_impl\u001b[0;34m(self, *args, **kwargs)\u001b[0m\n\u001b[1;32m   1499\u001b[0m                 \u001b[0;32mor\u001b[0m \u001b[0m_global_backward_pre_hooks\u001b[0m \u001b[0;32mor\u001b[0m \u001b[0m_global_backward_hooks\u001b[0m\u001b[0;34m\u001b[0m\u001b[0;34m\u001b[0m\u001b[0m\n\u001b[1;32m   1500\u001b[0m                 or _global_forward_hooks or _global_forward_pre_hooks):\n\u001b[0;32m-> 1501\u001b[0;31m             \u001b[0;32mreturn\u001b[0m \u001b[0mforward_call\u001b[0m\u001b[0;34m(\u001b[0m\u001b[0;34m*\u001b[0m\u001b[0margs\u001b[0m\u001b[0;34m,\u001b[0m \u001b[0;34m**\u001b[0m\u001b[0mkwargs\u001b[0m\u001b[0;34m)\u001b[0m\u001b[0;34m\u001b[0m\u001b[0;34m\u001b[0m\u001b[0m\n\u001b[0m\u001b[1;32m   1502\u001b[0m         \u001b[0;31m# Do not call functions when jit is used\u001b[0m\u001b[0;34m\u001b[0m\u001b[0;34m\u001b[0m\u001b[0m\n\u001b[1;32m   1503\u001b[0m         \u001b[0mfull_backward_hooks\u001b[0m\u001b[0;34m,\u001b[0m \u001b[0mnon_full_backward_hooks\u001b[0m \u001b[0;34m=\u001b[0m \u001b[0;34m[\u001b[0m\u001b[0;34m]\u001b[0m\u001b[0;34m,\u001b[0m \u001b[0;34m[\u001b[0m\u001b[0;34m]\u001b[0m\u001b[0;34m\u001b[0m\u001b[0;34m\u001b[0m\u001b[0m\n",
            "\u001b[0;32m/usr/local/lib/python3.10/dist-packages/torch/nn/modules/rnn.py\u001b[0m in \u001b[0;36mforward\u001b[0;34m(self, input, hx)\u001b[0m\n\u001b[1;32m    771\u001b[0m         \u001b[0;32melse\u001b[0m\u001b[0;34m:\u001b[0m\u001b[0;34m\u001b[0m\u001b[0;34m\u001b[0m\u001b[0m\n\u001b[1;32m    772\u001b[0m             \u001b[0mbatch_sizes\u001b[0m \u001b[0;34m=\u001b[0m \u001b[0;32mNone\u001b[0m\u001b[0;34m\u001b[0m\u001b[0;34m\u001b[0m\u001b[0m\n\u001b[0;32m--> 773\u001b[0;31m             \u001b[0;32massert\u001b[0m \u001b[0;34m(\u001b[0m\u001b[0minput\u001b[0m\u001b[0;34m.\u001b[0m\u001b[0mdim\u001b[0m\u001b[0;34m(\u001b[0m\u001b[0;34m)\u001b[0m \u001b[0;32min\u001b[0m \u001b[0;34m(\u001b[0m\u001b[0;36m2\u001b[0m\u001b[0;34m,\u001b[0m \u001b[0;36m3\u001b[0m\u001b[0;34m)\u001b[0m\u001b[0;34m)\u001b[0m\u001b[0;34m,\u001b[0m \u001b[0;34mf\"LSTM: Expected input to be 2-D or 3-D but received {input.dim()}-D tensor\"\u001b[0m\u001b[0;34m\u001b[0m\u001b[0;34m\u001b[0m\u001b[0m\n\u001b[0m\u001b[1;32m    774\u001b[0m             \u001b[0mis_batched\u001b[0m \u001b[0;34m=\u001b[0m \u001b[0minput\u001b[0m\u001b[0;34m.\u001b[0m\u001b[0mdim\u001b[0m\u001b[0;34m(\u001b[0m\u001b[0;34m)\u001b[0m \u001b[0;34m==\u001b[0m \u001b[0;36m3\u001b[0m\u001b[0;34m\u001b[0m\u001b[0;34m\u001b[0m\u001b[0m\n\u001b[1;32m    775\u001b[0m             \u001b[0mbatch_dim\u001b[0m \u001b[0;34m=\u001b[0m \u001b[0;36m0\u001b[0m \u001b[0;32mif\u001b[0m \u001b[0mself\u001b[0m\u001b[0;34m.\u001b[0m\u001b[0mbatch_first\u001b[0m \u001b[0;32melse\u001b[0m \u001b[0;36m1\u001b[0m\u001b[0;34m\u001b[0m\u001b[0;34m\u001b[0m\u001b[0m\n",
            "\u001b[0;31mAssertionError\u001b[0m: LSTM: Expected input to be 2-D or 3-D but received 5-D tensor"
          ]
        }
      ]
    },
    {
      "cell_type": "code",
      "source": [
        "def train_model(model, train_loader, criterion, optimizer):\n",
        "    model.train()\n",
        "    for inputs, labels in train_loader:\n",
        "        optimizer.zero_grad()\n",
        "        outputs = model(inputs)\n",
        "        loss = criterion(outputs, labels)\n",
        "        loss.backward()\n",
        "        optimizer.step()\n",
        "\n",
        "def evaluate_model(model, data_loader):\n",
        "    model.eval()\n",
        "    correct = 0\n",
        "    total = 0\n",
        "    with torch.no_grad():\n",
        "        for inputs, labels in data_loader:\n",
        "            outputs = model(inputs)\n",
        "            _, predicted = torch.max(outputs, dim=1)\n",
        "            total += labels.size(0)\n",
        "            correct += (predicted == labels).sum().item()\n",
        "    accuracy = correct / total\n",
        "    return accuracy\n"
      ],
      "metadata": {
        "id": "oMjQ--ryUNZI"
      },
      "id": "oMjQ--ryUNZI",
      "execution_count": null,
      "outputs": []
    },
    {
      "cell_type": "code",
      "source": [
        "def main():\n",
        "    # 数据预处理和划分\n",
        "    # ...\n",
        "\n",
        "    # 创建数据集和数据加载器\n",
        "    train_dataset = CustomDataset(train_test_LSTM, df_balanced['label'].values)\n",
        "    val_dataset = CustomDataset(X_val, y_val)\n",
        "    train_loader = DataLoader(train_dataset, batch_size=batch_size, shuffle=True)\n",
        "    val_loader = DataLoader(val_dataset, batch_size=batch_size, shuffle=False)\n",
        "\n",
        "    # 定义损失函数和优化器\n",
        "    criterion = nn.CrossEntropyLoss()\n",
        "    optimizer = optim.Adam(model.parameters(), lr=learning_rate)\n",
        "\n",
        "    # 训练和评估模型\n",
        "    for epoch in range(num_epochs):\n",
        "        train_model(model, train_loader, criterion, optimizer)\n",
        "        accuracy = evaluate_model(model, val_loader)\n",
        "        print(f\"Epoch {epoch+1}/{num_epochs}, Val Accuracy: {accuracy:.4f}\")\n",
        "\n",
        "    # 在测试集上评估模型\n",
        "    test_dataset = CustomDataset(X_test, y_test)\n",
        "    test_loader = DataLoader(test_dataset, batch_size=batch_size, shuffle=False)\n",
        "    test_accuracy = evaluate_model(model, test_loader)\n",
        "    print(f\"Test Accuracy: {test_accuracy:.4f}\")\n",
        "\n",
        "# 运行主函数\n",
        "if __name__ == '__main__':\n",
        "    main()\n"
      ],
      "metadata": {
        "colab": {
          "base_uri": "https://localhost:8080/",
          "height": 363
        },
        "id": "5UWfA-EUURbT",
        "outputId": "321382cd-ee37-441e-b808-f01ebc361e93"
      },
      "id": "5UWfA-EUURbT",
      "execution_count": null,
      "outputs": [
        {
          "output_type": "error",
          "ename": "TypeError",
          "evalue": "ignored",
          "traceback": [
            "\u001b[0;31m---------------------------------------------------------------------------\u001b[0m",
            "\u001b[0;31mTypeError\u001b[0m                                 Traceback (most recent call last)",
            "\u001b[0;32m<ipython-input-77-8e69c936de49>\u001b[0m in \u001b[0;36m<cell line: 28>\u001b[0;34m()\u001b[0m\n\u001b[1;32m     27\u001b[0m \u001b[0;31m# 运行主函数\u001b[0m\u001b[0;34m\u001b[0m\u001b[0;34m\u001b[0m\u001b[0m\n\u001b[1;32m     28\u001b[0m \u001b[0;32mif\u001b[0m \u001b[0m__name__\u001b[0m \u001b[0;34m==\u001b[0m \u001b[0;34m'__main__'\u001b[0m\u001b[0;34m:\u001b[0m\u001b[0;34m\u001b[0m\u001b[0;34m\u001b[0m\u001b[0m\n\u001b[0;32m---> 29\u001b[0;31m     \u001b[0mmain\u001b[0m\u001b[0;34m(\u001b[0m\u001b[0;34m)\u001b[0m\u001b[0;34m\u001b[0m\u001b[0;34m\u001b[0m\u001b[0m\n\u001b[0m",
            "\u001b[0;32m<ipython-input-77-8e69c936de49>\u001b[0m in \u001b[0;36mmain\u001b[0;34m()\u001b[0m\n\u001b[1;32m      5\u001b[0m     \u001b[0;31m# 创建数据集和数据加载器\u001b[0m\u001b[0;34m\u001b[0m\u001b[0;34m\u001b[0m\u001b[0m\n\u001b[1;32m      6\u001b[0m     \u001b[0mtrain_dataset\u001b[0m \u001b[0;34m=\u001b[0m \u001b[0mCustomDataset\u001b[0m\u001b[0;34m(\u001b[0m\u001b[0mtrain_test_LSTM\u001b[0m\u001b[0;34m,\u001b[0m \u001b[0mdf_balanced\u001b[0m\u001b[0;34m[\u001b[0m\u001b[0;34m'label'\u001b[0m\u001b[0;34m]\u001b[0m\u001b[0;34m.\u001b[0m\u001b[0mvalues\u001b[0m\u001b[0;34m)\u001b[0m\u001b[0;34m\u001b[0m\u001b[0;34m\u001b[0m\u001b[0m\n\u001b[0;32m----> 7\u001b[0;31m     \u001b[0mval_dataset\u001b[0m \u001b[0;34m=\u001b[0m \u001b[0mCustomDataset\u001b[0m\u001b[0;34m(\u001b[0m\u001b[0mX_val\u001b[0m\u001b[0;34m,\u001b[0m \u001b[0my_val\u001b[0m\u001b[0;34m)\u001b[0m\u001b[0;34m\u001b[0m\u001b[0;34m\u001b[0m\u001b[0m\n\u001b[0m\u001b[1;32m      8\u001b[0m     \u001b[0mtrain_loader\u001b[0m \u001b[0;34m=\u001b[0m \u001b[0mDataLoader\u001b[0m\u001b[0;34m(\u001b[0m\u001b[0mtrain_dataset\u001b[0m\u001b[0;34m,\u001b[0m \u001b[0mbatch_size\u001b[0m\u001b[0;34m=\u001b[0m\u001b[0mbatch_size\u001b[0m\u001b[0;34m,\u001b[0m \u001b[0mshuffle\u001b[0m\u001b[0;34m=\u001b[0m\u001b[0;32mTrue\u001b[0m\u001b[0;34m)\u001b[0m\u001b[0;34m\u001b[0m\u001b[0;34m\u001b[0m\u001b[0m\n\u001b[1;32m      9\u001b[0m     \u001b[0mval_loader\u001b[0m \u001b[0;34m=\u001b[0m \u001b[0mDataLoader\u001b[0m\u001b[0;34m(\u001b[0m\u001b[0mval_dataset\u001b[0m\u001b[0;34m,\u001b[0m \u001b[0mbatch_size\u001b[0m\u001b[0;34m=\u001b[0m\u001b[0mbatch_size\u001b[0m\u001b[0;34m,\u001b[0m \u001b[0mshuffle\u001b[0m\u001b[0;34m=\u001b[0m\u001b[0;32mFalse\u001b[0m\u001b[0;34m)\u001b[0m\u001b[0;34m\u001b[0m\u001b[0;34m\u001b[0m\u001b[0m\n",
            "\u001b[0;32m<ipython-input-74-30d53d64e26b>\u001b[0m in \u001b[0;36m__init__\u001b[0;34m(self, text_data, labels)\u001b[0m\n\u001b[1;32m      3\u001b[0m         \u001b[0mself\u001b[0m\u001b[0;34m.\u001b[0m\u001b[0mtext_data\u001b[0m \u001b[0;34m=\u001b[0m \u001b[0mtext_data\u001b[0m\u001b[0;34m\u001b[0m\u001b[0;34m\u001b[0m\u001b[0m\n\u001b[1;32m      4\u001b[0m         \u001b[0mself\u001b[0m\u001b[0;34m.\u001b[0m\u001b[0mlabels\u001b[0m \u001b[0;34m=\u001b[0m \u001b[0mlabels\u001b[0m\u001b[0;34m\u001b[0m\u001b[0;34m\u001b[0m\u001b[0m\n\u001b[0;32m----> 5\u001b[0;31m         \u001b[0mself\u001b[0m\u001b[0;34m.\u001b[0m\u001b[0mlength\u001b[0m \u001b[0;34m=\u001b[0m \u001b[0mlen\u001b[0m\u001b[0;34m(\u001b[0m\u001b[0mself\u001b[0m\u001b[0;34m.\u001b[0m\u001b[0mtext_data\u001b[0m\u001b[0;34m)\u001b[0m\u001b[0;34m\u001b[0m\u001b[0;34m\u001b[0m\u001b[0m\n\u001b[0m\u001b[1;32m      6\u001b[0m \u001b[0;34m\u001b[0m\u001b[0m\n\u001b[1;32m      7\u001b[0m     \u001b[0;32mdef\u001b[0m \u001b[0m__len__\u001b[0m\u001b[0;34m(\u001b[0m\u001b[0mself\u001b[0m\u001b[0;34m)\u001b[0m\u001b[0;34m:\u001b[0m\u001b[0;34m\u001b[0m\u001b[0;34m\u001b[0m\u001b[0m\n",
            "\u001b[0;32m/usr/local/lib/python3.10/dist-packages/scipy/sparse/_base.py\u001b[0m in \u001b[0;36m__len__\u001b[0;34m(self)\u001b[0m\n\u001b[1;32m    343\u001b[0m     \u001b[0;31m# non-zeros is more important.  For now, raise an exception!\u001b[0m\u001b[0;34m\u001b[0m\u001b[0;34m\u001b[0m\u001b[0m\n\u001b[1;32m    344\u001b[0m     \u001b[0;32mdef\u001b[0m \u001b[0m__len__\u001b[0m\u001b[0;34m(\u001b[0m\u001b[0mself\u001b[0m\u001b[0;34m)\u001b[0m\u001b[0;34m:\u001b[0m\u001b[0;34m\u001b[0m\u001b[0;34m\u001b[0m\u001b[0m\n\u001b[0;32m--> 345\u001b[0;31m         raise TypeError(\"sparse matrix length is ambiguous; use getnnz()\"\n\u001b[0m\u001b[1;32m    346\u001b[0m                         \" or shape[0]\")\n\u001b[1;32m    347\u001b[0m \u001b[0;34m\u001b[0m\u001b[0m\n",
            "\u001b[0;31mTypeError\u001b[0m: sparse matrix length is ambiguous; use getnnz() or shape[0]"
          ]
        }
      ]
    },
    {
      "cell_type": "markdown",
      "source": [
        "## bert"
      ],
      "metadata": {
        "id": "-v1-fsi0h9yW"
      },
      "id": "-v1-fsi0h9yW"
    },
    {
      "cell_type": "code",
      "source": [
        "import logging\n",
        "import random\n",
        "\n",
        "import numpy as np\n",
        "import torch"
      ],
      "metadata": {
        "id": "HRXfXgyZiACZ"
      },
      "id": "HRXfXgyZiACZ",
      "execution_count": 5,
      "outputs": []
    },
    {
      "cell_type": "code",
      "source": [
        "logging.basicConfig(level=logging.INFO, format='%(asctime)-15s %(levelname)s: %(message)s')"
      ],
      "metadata": {
        "id": "cukPZy9XiKX6"
      },
      "id": "cukPZy9XiKX6",
      "execution_count": 2,
      "outputs": []
    },
    {
      "cell_type": "code",
      "source": [
        "# 设置随机种子\n",
        "seed = 1234\n",
        "random.seed(seed)\n",
        "np.random.seed(seed)\n",
        "torch.cuda.manual_seed(seed)\n",
        "torch.manual_seed(seed)"
      ],
      "metadata": {
        "colab": {
          "base_uri": "https://localhost:8080/"
        },
        "id": "0trG8ywQidIZ",
        "outputId": "cb6ae061-e0d5-4e7f-a7d0-3077ef324274"
      },
      "id": "0trG8ywQidIZ",
      "execution_count": 3,
      "outputs": [
        {
          "output_type": "execute_result",
          "data": {
            "text/plain": [
              "<torch._C.Generator at 0x7fe41042ca30>"
            ]
          },
          "metadata": {},
          "execution_count": 3
        }
      ]
    },
    {
      "cell_type": "code",
      "source": [
        "# 使用CUDA进行计算，并将相GPU关联到PyTorch的计算操作中\n",
        "gpu = 0\n",
        "use_cuda = gpu >= 0 and torch.cuda.is_available()\n",
        "if use_cuda:\n",
        "    torch.cuda.set_device(gpu)\n",
        "    device = torch.device(\"cuda\", gpu)\n",
        "else:\n",
        "    device = torch.device(\"cpu\")\n",
        "logging.info(\"Use cuda: %s, gpu id: %d.\", use_cuda, gpu)"
      ],
      "metadata": {
        "id": "joKqj7Yyiz4A"
      },
      "id": "joKqj7Yyiz4A",
      "execution_count": 4,
      "outputs": []
    },
    {
      "cell_type": "code",
      "source": [
        "import pandas as pd"
      ],
      "metadata": {
        "id": "2GM5NJiyITaF"
      },
      "id": "2GM5NJiyITaF",
      "execution_count": null,
      "outputs": []
    },
    {
      "cell_type": "code",
      "source": [
        "# 指定划分数据集为10折\n",
        "fold_num = 10\n",
        "data_file = '/content/drive/MyDrive/news/train_set.csv'"
      ],
      "metadata": {
        "id": "hyGJBaRKmTqp"
      },
      "id": "hyGJBaRKmTqp",
      "execution_count": 7,
      "outputs": []
    },
    {
      "cell_type": "code",
      "source": [
        "# 将数据集划分为多个折并返回折数据。\n",
        "def all_data2fold(fold_num, num=10000):   # fold_num：指定要划分的折数；num：指定用于划分的样本数量，默认为10000\n",
        "    fold_data = []\n",
        "\n",
        "    # 读取数据\n",
        "    f = pd.read_csv(data_file, sep='\\t', encoding='UTF-8')   # encoding='UTF-8'表示使用UTF-8编码读取文件。\n",
        "    texts = f['text'].tolist()[:num]   # 将数据文件中的文本列提取为texts列表，并使用tolist()方法将其转换为Python列表\n",
        "    labels = f['label'].tolist()[:num]   # [:num]表示只取前num个样本。\n",
        "\n",
        "    total = len(labels)\n",
        "\n",
        "    # 随机打乱数据\n",
        "    index = list(range(total))   # 创建索引\n",
        "    np.random.shuffle(index)   # 对索引列表进行随机打乱\n",
        "    all_texts = []\n",
        "    all_labels = []\n",
        "    for i in index:\n",
        "        all_texts.append(texts[i])   # 将第i个索引对应的文本添加到all_texts列表中\n",
        "        all_labels.append(labels[i])\n",
        "\n",
        "    # 创建标签字典（每个类别标签映射到一个索引列表，列表中包含了属于该类别的样本的索引）\n",
        "    label2id = {}\n",
        "    for i in range(total):\n",
        "        label = str(all_labels[i])\n",
        "        if label not in label2id:\n",
        "            label2id[label] = [i]   # 创建一个新的键值对，键为类别标签，值为包含当前索引i的列表\n",
        "        else:\n",
        "            label2id[label].append(i)   # 将当前索引i添加到该类别标签对应的索引列表中\n",
        "\n",
        "    # 创建列表all_index，包含fold_num个列表，每个列表中存储了对应折的样本索引\n",
        "    all_index = [[] for _ in range(fold_num)]\n",
        "    for label, data in label2id.items():   # 遍历label2id字典中的每个键值对\n",
        "        # print(label, len(data))\n",
        "        batch_size = int(len(data) / fold_num)   # 计算该类别中每个折的样本数量\n",
        "        other = len(data) - batch_size * fold_num   # 计算剩余的样本数量\n",
        "        for i in range(fold_num):\n",
        "            cur_batch_size = batch_size + 1 if i < other else batch_size   # 把剩余样本分到前other折里\n",
        "            # print(cur_batch_size)\n",
        "            batch_data = [data[i * batch_size + b] for b in range(cur_batch_size)]\n",
        "            all_index[i].extend(batch_data)\n",
        "\n",
        "    batch_size = int(total / fold_num)   # 每个折中的标准样本数量\n",
        "    other_texts = []\n",
        "    other_labels = []\n",
        "    other_num = 0\n",
        "    start = 0\n",
        "\n",
        "    # 建立列表fold_data，包含了每个折的文本和标签数据\n",
        "    for fold in range(fold_num):\n",
        "        num = len(all_index[fold])   # 当前折的样本数量\n",
        "        texts = [all_texts[i] for i in all_index[fold]]   # 提取对应的文本数据\n",
        "        labels = [all_labels[i] for i in all_index[fold]]   # 提取对应的标签数据\n",
        "\n",
        "        # 如果比标准多了，把多出来的放进other_texts和other_labels\n",
        "        if num > batch_size:\n",
        "            fold_texts = texts[:batch_size]\n",
        "            other_texts.extend(texts[batch_size:])\n",
        "            fold_labels = labels[:batch_size]\n",
        "            other_labels.extend(labels[batch_size:])\n",
        "            other_num += num - batch_size\n",
        "        \n",
        "        # 如果比标准少了，从other_texts和other_labels中拿点来补\n",
        "        elif num < batch_size:\n",
        "            end = start + batch_size - num\n",
        "            fold_texts = texts + other_texts[start: end]\n",
        "            fold_labels = labels + other_labels[start: end]\n",
        "            start = end\n",
        "\n",
        "        else:\n",
        "            fold_texts = texts\n",
        "            fold_labels = labels\n",
        "\n",
        "        # 确保当前折中的样本数量与标准相等，不然会报错\n",
        "        assert batch_size == len(fold_labels)\n",
        "\n",
        "        # 对当前折中的索引再随机打乱\n",
        "        index = list(range(batch_size))\n",
        "        np.random.shuffle(index)\n",
        "        shuffle_fold_texts = []\n",
        "        shuffle_fold_labels = []\n",
        "        for i in index:\n",
        "            shuffle_fold_texts.append(fold_texts[i])\n",
        "            shuffle_fold_labels.append(fold_labels[i])\n",
        "\n",
        "        # 将处理过的数据塞进fold_data里\n",
        "        data = {'label': shuffle_fold_labels, 'text': shuffle_fold_texts}\n",
        "        fold_data.append(data)\n",
        "\n",
        "    # 在日志中显示每个折的样本数量信息\n",
        "    logging.info(\"Fold lens %s\", str([len(data['label']) for data in fold_data]))\n",
        "\n",
        "    return fold_data"
      ],
      "metadata": {
        "id": "O710gdBXrdRw"
      },
      "id": "O710gdBXrdRw",
      "execution_count": null,
      "outputs": []
    },
    {
      "cell_type": "code",
      "source": [
        "fold_data = all_data2fold(10)"
      ],
      "metadata": {
        "id": "85lz-PNsA-D7"
      },
      "id": "85lz-PNsA-D7",
      "execution_count": null,
      "outputs": []
    },
    {
      "cell_type": "code",
      "source": [
        "# 选取第9折数据为验证集，第0-8折数据为训练集\n",
        "# 验证集\n",
        "fold_id = 9\n",
        "dev_data = fold_data[fold_id]   \n",
        "\n",
        "# 训练集\n",
        "train_texts = []\n",
        "train_labels = []\n",
        "for i in range(0, fold_id):\n",
        "    data = fold_data[i]\n",
        "    train_texts.extend(data['text'])\n",
        "    train_labels.extend(data['label'])\n",
        "train_data = {'label': train_labels, 'text': train_texts}\n",
        "\n",
        "# 测试集\n",
        "test_data_file = '/content/drive/MyDrive/news/test_a.csv'\n",
        "f = pd.read_csv(test_data_file, sep='\\t', encoding='UTF-8')\n",
        "texts = f['text'].tolist()\n",
        "test_data = {'label': [0] * len(texts), 'text': texts}"
      ],
      "metadata": {
        "id": "BUShp1QfCLvg"
      },
      "id": "BUShp1QfCLvg",
      "execution_count": null,
      "outputs": []
    },
    {
      "cell_type": "code",
      "source": [
        "from collections import Counter\n",
        "from transformers import BasicTokenizer"
      ],
      "metadata": {
        "id": "ckVgIQoZIWZw"
      },
      "id": "ckVgIQoZIWZw",
      "execution_count": null,
      "outputs": []
    },
    {
      "cell_type": "code",
      "source": [
        "'''\n",
        "BasicTokenizer用于基本的文本标记化任务\n",
        "它可以将文本分割成单词（或子词）的序列，并进行一些基本的文本处理操作，如转换为小写、去除标点符号等。\n",
        "'''\n",
        "basic_tokenizer = BasicTokenizer()"
      ],
      "metadata": {
        "id": "V42fdYGAIaeX"
      },
      "id": "V42fdYGAIaeX",
      "execution_count": null,
      "outputs": []
    },
    {
      "cell_type": "code",
      "source": [
        "# 定义一个Vocab类，用于构建词汇表并提供一些与词汇相关的操作\n",
        "class Vocab():\n",
        "  \n",
        "    # 初始化函数\n",
        "    def __init__(self, train_data):\n",
        "        self.min_count = 5   # 最小词频阈值，默认为5。词频低于该值的单词将被视为未知单词\n",
        "        self.pad = 0   # 填充标记的编号，默认为0\n",
        "        self.unk = 1   # 未知单词的编号，默认为1\n",
        "        self._id2word = ['[PAD]', '[UNK]']   # 词汇表中单词的列表，初始包含两个特殊标记[PAD]和[UNK]\n",
        "        self._id2extword = ['[PAD]', '[UNK]']   # 扩展词汇表中单词的列表\n",
        "\n",
        "        self._id2label = []   # 标签表中标签的列表\n",
        "        self.target_names = []   # 标签的名称列表\n",
        "\n",
        "        self.build_vocab(train_data)   # 构建词汇表\n",
        "\n",
        "        # lambda函数用于创建一个将列表中元素与其在列表中的索引相互映射的字典\n",
        "        reverse = lambda x: dict(zip(x, range(len(x))))   # zip()将多个对象按照相同的索引位置进行配对，dict()将元组序列转化为字典，x中的元素作为字典的键，对应的索引作为字典的值\n",
        "        self._word2id = reverse(self._id2word)   # 将单词映射到其在词汇表中的编号的字典\n",
        "        self._label2id = reverse(self._id2label)   # 将标签映射到其在标签表中的编号的字典\n",
        "\n",
        "        logging.info(\"Build vocab: words %d, labels %d.\" % (self.word_size, self.label_size))\n",
        "\n",
        "    def build_vocab(self, data):\n",
        "        self.word_counter = Counter()\n",
        "\n",
        "        for text in data['text']:\n",
        "            words = text.split()\n",
        "            for word in words:\n",
        "                self.word_counter[word] += 1\n",
        "\n",
        "        for word, count in self.word_counter.most_common():\n",
        "            if count >= self.min_count:\n",
        "                self._id2word.append(word)\n",
        "\n",
        "        label2name = {0: '科技', 1: '股票', 2: '体育', 3: '娱乐', 4: '时政', 5: '社会', 6: '教育', 7: '财经',\n",
        "                      8: '家居', 9: '游戏', 10: '房产', 11: '时尚', 12: '彩票', 13: '星座'}\n",
        "\n",
        "        self.label_counter = Counter(data['label'])\n",
        "\n",
        "        for label in range(len(self.label_counter)):\n",
        "            count = self.label_counter[label]\n",
        "            self._id2label.append(label)\n",
        "            self.target_names.append(label2name[label])\n",
        "\n",
        "    def load_pretrained_embs(self, embfile):\n",
        "        with open(embfile, encoding='utf-8') as f:\n",
        "            lines = f.readlines()\n",
        "            items = lines[0].split()\n",
        "            word_count, embedding_dim = int(items[0]), int(items[1])\n",
        "\n",
        "        index = len(self._id2extword)\n",
        "        embeddings = np.zeros((word_count + index, embedding_dim))\n",
        "        for line in lines[1:]:\n",
        "            values = line.split()\n",
        "            self._id2extword.append(values[0])\n",
        "            vector = np.array(values[1:], dtype='float64')\n",
        "            embeddings[self.unk] += vector\n",
        "            embeddings[index] = vector\n",
        "            index += 1\n",
        "\n",
        "        embeddings[self.unk] = embeddings[self.unk] / word_count\n",
        "        embeddings = embeddings / np.std(embeddings)\n",
        "\n",
        "        reverse = lambda x: dict(zip(x, range(len(x))))\n",
        "        self._extword2id = reverse(self._id2extword)\n",
        "\n",
        "        assert len(set(self._id2extword)) == len(self._id2extword)\n",
        "\n",
        "        return embeddings\n",
        "\n",
        "    def word2id(self, xs):\n",
        "        if isinstance(xs, list):\n",
        "            return [self._word2id.get(x, self.unk) for x in xs]\n",
        "        return self._word2id.get(xs, self.unk)\n",
        "\n",
        "    def extword2id(self, xs):\n",
        "        if isinstance(xs, list):\n",
        "            return [self._extword2id.get(x, self.unk) for x in xs]\n",
        "        return self._extword2id.get(xs, self.unk)\n",
        "\n",
        "    def label2id(self, xs):\n",
        "        if isinstance(xs, list):\n",
        "            return [self._label2id.get(x, self.unk) for x in xs]\n",
        "        return self._label2id.get(xs, self.unk)\n",
        "\n",
        "    @property\n",
        "    def word_size(self):\n",
        "        return len(self._id2word)\n",
        "\n",
        "    @property\n",
        "    def extword_size(self):\n",
        "        return len(self._id2extword)\n",
        "\n",
        "    @property\n",
        "    def label_size(self):\n",
        "        return len(self._id2label)"
      ],
      "metadata": {
        "id": "May9nEc0PDel"
      },
      "id": "May9nEc0PDel",
      "execution_count": null,
      "outputs": []
    },
    {
      "cell_type": "code",
      "source": [
        "vocab = Vocab(train_data)"
      ],
      "metadata": {
        "id": "EP0P0WBFbCwK"
      },
      "id": "EP0P0WBFbCwK",
      "execution_count": null,
      "outputs": []
    },
    {
      "cell_type": "code",
      "source": [
        "# build module\n",
        "import torch.nn as nn\n",
        "import torch.nn.functional as F"
      ],
      "metadata": {
        "id": "3Pj_WED8bfum"
      },
      "id": "3Pj_WED8bfum",
      "execution_count": null,
      "outputs": []
    },
    {
      "cell_type": "code",
      "source": [
        "class Attention(nn.Module):\n",
        "    def __init__(self, hidden_size):\n",
        "        super(Attention, self).__init__()\n",
        "        self.weight = nn.Parameter(torch.Tensor(hidden_size, hidden_size))\n",
        "        self.weight.data.normal_(mean=0.0, std=0.05)\n",
        "\n",
        "        self.bias = nn.Parameter(torch.Tensor(hidden_size))\n",
        "        b = np.zeros(hidden_size, dtype=np.float32)\n",
        "        self.bias.data.copy_(torch.from_numpy(b))\n",
        "\n",
        "        self.query = nn.Parameter(torch.Tensor(hidden_size))\n",
        "        self.query.data.normal_(mean=0.0, std=0.05)\n",
        "\n",
        "    def forward(self, batch_hidden, batch_masks):\n",
        "        # batch_hidden: b x len x hidden_size (2 * hidden_size of lstm)\n",
        "        # batch_masks:  b x len\n",
        "\n",
        "        # linear\n",
        "        key = torch.matmul(batch_hidden, self.weight) + self.bias  # b x len x hidden\n",
        "\n",
        "        # compute attention\n",
        "        outputs = torch.matmul(key, self.query)  # b x len\n",
        "\n",
        "        masked_outputs = outputs.masked_fill((1 - batch_masks).bool(), float(-1e32))\n",
        "\n",
        "        attn_scores = F.softmax(masked_outputs, dim=1)  # b x len\n",
        "\n",
        "        # 对于全零向量，-1e32的结果为 1/len, -inf为nan, 额外补0\n",
        "        masked_attn_scores = attn_scores.masked_fill((1 - batch_masks).bool(), 0.0)\n",
        "\n",
        "        # sum weighted sources\n",
        "        batch_outputs = torch.bmm(masked_attn_scores.unsqueeze(1), key).squeeze(1)  # b x hidden\n",
        "\n",
        "        return batch_outputs, attn_scores"
      ],
      "metadata": {
        "id": "xT_wcPjRbgci"
      },
      "id": "xT_wcPjRbgci",
      "execution_count": null,
      "outputs": []
    },
    {
      "cell_type": "code",
      "source": [
        "# build word encoder\n",
        "bert_path = '../emb/bert-mini/'\n",
        "dropout = 0.15"
      ],
      "metadata": {
        "id": "pceTIgPybl24"
      },
      "id": "pceTIgPybl24",
      "execution_count": null,
      "outputs": []
    },
    {
      "cell_type": "code",
      "source": [
        "from transformers import BertModel"
      ],
      "metadata": {
        "id": "Q4yCdGbSboOr"
      },
      "id": "Q4yCdGbSboOr",
      "execution_count": null,
      "outputs": []
    },
    {
      "cell_type": "code",
      "source": [
        "class WordBertEncoder(nn.Module):\n",
        "    def __init__(self):\n",
        "        super(WordBertEncoder, self).__init__()\n",
        "        self.dropout = nn.Dropout(dropout)\n",
        "\n",
        "        self.tokenizer = WhitespaceTokenizer()\n",
        "        self.bert = BertModel.from_pretrained(bert_path)\n",
        "\n",
        "        self.pooled = False\n",
        "        logging.info('Build Bert encoder with pooled {}.'.format(self.pooled))\n",
        "\n",
        "    def encode(self, tokens):\n",
        "        tokens = self.tokenizer.tokenize(tokens)\n",
        "        return tokens\n",
        "\n",
        "    def get_bert_parameters(self):\n",
        "        no_decay = ['bias', 'LayerNorm.weight']\n",
        "        optimizer_parameters = [\n",
        "            {'params': [p for n, p in self.bert.named_parameters() if not any(nd in n for nd in no_decay)],\n",
        "             'weight_decay': 0.01},\n",
        "            {'params': [p for n, p in self.bert.named_parameters() if any(nd in n for nd in no_decay)],\n",
        "             'weight_decay': 0.0}\n",
        "        ]\n",
        "        return optimizer_parameters\n",
        "\n",
        "    def forward(self, input_ids, token_type_ids):\n",
        "        # input_ids: sen_num x bert_len\n",
        "        # token_type_ids: sen_num  x bert_len\n",
        "\n",
        "        # sen_num x bert_len x 256, sen_num x 256\n",
        "        sequence_output, pooled_output = self.bert(input_ids=input_ids, token_type_ids=token_type_ids)\n",
        "\n",
        "        if self.pooled:\n",
        "            reps = pooled_output\n",
        "        else:\n",
        "            reps = sequence_output[:, 0, :]  # sen_num x 256\n",
        "\n",
        "        if self.training:\n",
        "            reps = self.dropout(reps)\n",
        "\n",
        "        return reps\n"
      ],
      "metadata": {
        "id": "o913TLSybqUM"
      },
      "id": "o913TLSybqUM",
      "execution_count": null,
      "outputs": []
    },
    {
      "cell_type": "code",
      "source": [
        "class WhitespaceTokenizer():\n",
        "    \"\"\"WhitespaceTokenizer with vocab.\"\"\"\n",
        "\n",
        "    def __init__(self):\n",
        "        vocab_file = bert_path + 'vocab.txt'\n",
        "        self._token2id = self.load_vocab(vocab_file)\n",
        "        self._id2token = {v: k for k, v in self._token2id.items()}\n",
        "        self.max_len = 256\n",
        "        self.unk = 1\n",
        "\n",
        "        logging.info(\"Build Bert vocab with size %d.\" % (self.vocab_size))\n",
        "\n",
        "    def load_vocab(self, vocab_file):\n",
        "        f = open(vocab_file, 'r')\n",
        "        lines = f.readlines()\n",
        "        lines = list(map(lambda x: x.strip(), lines))\n",
        "        vocab = dict(zip(lines, range(len(lines))))\n",
        "        return vocab\n",
        "\n",
        "    def tokenize(self, tokens):\n",
        "        assert len(tokens) <= self.max_len - 2\n",
        "        tokens = [\"[CLS]\"] + tokens + [\"[SEP]\"]\n",
        "        output_tokens = self.token2id(tokens)\n",
        "        return output_tokens\n",
        "\n",
        "    def token2id(self, xs):\n",
        "        if isinstance(xs, list):\n",
        "            return [self._token2id.get(x, self.unk) for x in xs]\n",
        "        return self._token2id.get(xs, self.unk)\n",
        "\n",
        "    @property\n",
        "    def vocab_size(self):\n",
        "        return len(self._id2token)"
      ],
      "metadata": {
        "id": "XTzkwJ61btWo"
      },
      "id": "XTzkwJ61btWo",
      "execution_count": null,
      "outputs": []
    },
    {
      "cell_type": "code",
      "source": [
        "# build sent encoder\n",
        "sent_hidden_size = 256\n",
        "sent_num_layers = 2"
      ],
      "metadata": {
        "id": "2b-BEfUYbv3o"
      },
      "id": "2b-BEfUYbv3o",
      "execution_count": null,
      "outputs": []
    },
    {
      "cell_type": "code",
      "source": [
        "class SentEncoder(nn.Module):\n",
        "    def __init__(self, sent_rep_size):\n",
        "        super(SentEncoder, self).__init__()\n",
        "        self.dropout = nn.Dropout(dropout)\n",
        "\n",
        "        self.sent_lstm = nn.LSTM(\n",
        "            input_size=sent_rep_size,\n",
        "            hidden_size=sent_hidden_size,\n",
        "            num_layers=sent_num_layers,\n",
        "            batch_first=True,\n",
        "            bidirectional=True\n",
        "        )\n",
        "\n",
        "    def forward(self, sent_reps, sent_masks):\n",
        "        # sent_reps:  b x doc_len x sent_rep_size\n",
        "        # sent_masks: b x doc_len\n",
        "\n",
        "        sent_hiddens, _ = self.sent_lstm(sent_reps)  # b x doc_len x hidden*2\n",
        "        sent_hiddens = sent_hiddens * sent_masks.unsqueeze(2)\n",
        "\n",
        "        if self.training:\n",
        "            sent_hiddens = self.dropout(sent_hiddens)\n",
        "\n",
        "        return sent_hiddens"
      ],
      "metadata": {
        "id": "Jqcp070Pbx7g"
      },
      "id": "Jqcp070Pbx7g",
      "execution_count": null,
      "outputs": []
    },
    {
      "cell_type": "code",
      "source": [
        "# build model\n",
        "class Model(nn.Module):\n",
        "    def __init__(self, vocab):\n",
        "        super(Model, self).__init__()\n",
        "        self.sent_rep_size = 256\n",
        "        self.doc_rep_size = sent_hidden_size * 2\n",
        "        self.all_parameters = {}\n",
        "        parameters = []\n",
        "        self.word_encoder = WordBertEncoder()\n",
        "        bert_parameters = self.word_encoder.get_bert_parameters()\n",
        "\n",
        "        self.sent_encoder = SentEncoder(self.sent_rep_size)\n",
        "        self.sent_attention = Attention(self.doc_rep_size)\n",
        "        parameters.extend(list(filter(lambda p: p.requires_grad, self.sent_encoder.parameters())))\n",
        "        parameters.extend(list(filter(lambda p: p.requires_grad, self.sent_attention.parameters())))\n",
        "\n",
        "        self.out = nn.Linear(self.doc_rep_size, vocab.label_size, bias=True)\n",
        "        parameters.extend(list(filter(lambda p: p.requires_grad, self.out.parameters())))\n",
        "\n",
        "        if use_cuda:\n",
        "            self.to(device)\n",
        "\n",
        "        if len(parameters) > 0:\n",
        "            self.all_parameters[\"basic_parameters\"] = parameters\n",
        "        self.all_parameters[\"bert_parameters\"] = bert_parameters\n",
        "\n",
        "        logging.info('Build model with bert word encoder, lstm sent encoder.')\n",
        "\n",
        "        para_num = sum([np.prod(list(p.size())) for p in self.parameters()])\n",
        "        logging.info('Model param num: %.2f M.' % (para_num / 1e6))\n",
        "\n",
        "    def forward(self, batch_inputs):\n",
        "        # batch_inputs(batch_inputs1, batch_inputs2): b x doc_len x sent_len\n",
        "        # batch_masks : b x doc_len x sent_len\n",
        "        batch_inputs1, batch_inputs2, batch_masks = batch_inputs\n",
        "        batch_size, max_doc_len, max_sent_len = batch_inputs1.shape[0], batch_inputs1.shape[1], batch_inputs1.shape[2]\n",
        "        batch_inputs1 = batch_inputs1.view(batch_size * max_doc_len, max_sent_len)  # sen_num x sent_len\n",
        "        batch_inputs2 = batch_inputs2.view(batch_size * max_doc_len, max_sent_len)  # sen_num x sent_len\n",
        "        batch_masks = batch_masks.view(batch_size * max_doc_len, max_sent_len)  # sen_num x sent_len\n",
        "\n",
        "        sent_reps = self.word_encoder(batch_inputs1, batch_inputs2)  # sen_num x sent_rep_size\n",
        "\n",
        "        sent_reps = sent_reps.view(batch_size, max_doc_len, self.sent_rep_size)  # b x doc_len x sent_rep_size\n",
        "        batch_masks = batch_masks.view(batch_size, max_doc_len, max_sent_len)  # b x doc_len x max_sent_len\n",
        "        sent_masks = batch_masks.bool().any(2).float()  # b x doc_len\n",
        "\n",
        "        sent_hiddens = self.sent_encoder(sent_reps, sent_masks)  # b x doc_len x doc_rep_size\n",
        "        doc_reps, atten_scores = self.sent_attention(sent_hiddens, sent_masks)  # b x doc_rep_size\n",
        "\n",
        "        batch_outputs = self.out(doc_reps)  # b x num_labels\n",
        "\n",
        "        return batch_outputs"
      ],
      "metadata": {
        "id": "hRmPRsUFb67B"
      },
      "id": "hRmPRsUFb67B",
      "execution_count": null,
      "outputs": []
    },
    {
      "cell_type": "code",
      "source": [
        "model = Model(vocab)"
      ],
      "metadata": {
        "id": "dmDX-jG-b7nY"
      },
      "id": "dmDX-jG-b7nY",
      "execution_count": null,
      "outputs": []
    },
    {
      "cell_type": "code",
      "source": [],
      "metadata": {
        "id": "o9ZhNGsOb-Pv"
      },
      "id": "o9ZhNGsOb-Pv",
      "execution_count": null,
      "outputs": []
    }
  ],
  "metadata": {
    "kernelspec": {
      "display_name": "Python 3",
      "name": "python3"
    },
    "language_info": {
      "codemirror_mode": {
        "name": "ipython",
        "version": 3
      },
      "file_extension": ".py",
      "mimetype": "text/x-python",
      "name": "python",
      "nbconvert_exporter": "python",
      "pygments_lexer": "ipython3",
      "version": "3.10.11"
    },
    "colab": {
      "provenance": [],
      "gpuType": "T4",
      "collapsed_sections": [
        "LGz2Z4Ta18eg",
        "886f40dd-5aeb-41e7-beac-04d6990f3409",
        "Q2EMYD_0TmXO",
        "e891889d-6ed6-4218-85da-75cc0f9d516d",
        "10edb17b-4f95-4eec-b7d7-21773f399bfa",
        "GzY2SI8-TpA9"
      ]
    }
  },
  "nbformat": 4,
  "nbformat_minor": 5
}
